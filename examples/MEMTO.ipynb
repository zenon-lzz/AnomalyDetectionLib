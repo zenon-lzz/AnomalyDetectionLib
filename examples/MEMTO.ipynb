{
 "cells": [
  {
   "cell_type": "markdown",
   "id": "e9f29d797a0a5d69",
   "metadata": {},
   "source": [
    "# MEMTO Tutorial for Anomaly Detection\n",
    "This notebook demonstrates how to use MEMTO for time series anomaly detection\n",
    "\n",
    "## 1. Packages import and prepare arguments"
   ]
  },
  {
   "cell_type": "code",
   "execution_count": 1,
   "id": "a1c4e9176d8fa979",
   "metadata": {
    "ExecuteTime": {
     "end_time": "2025-03-29T10:39:58.302503Z",
     "start_time": "2025-03-29T10:39:55.950731Z"
    }
   },
   "outputs": [
    {
     "name": "stdout",
     "output_type": "stream",
     "text": [
      "2025-03-29 18:39:58.152 | __main__:<module>:30 | \u001B[1mINFO\u001B[0m: \u001B[1muse device: cuda:0\u001B[0m\n"
     ]
    }
   ],
   "source": [
    "\n",
    "import os\n",
    "import time\n",
    "\n",
    "import numpy as np\n",
    "import torch\n",
    "from sklearn.metrics import precision_recall_fscore_support\n",
    "from torch import nn\n",
    "from torch.utils.tensorboard import SummaryWriter\n",
    "from tqdm import tqdm\n",
    "from tsadlib.metrics.adjustment import point_adjustment\n",
    "\n",
    "from tsadlib.configs.constants import LIBRARY_ROOT\n",
    "from tsadlib.configs.log_config import log\n",
    "from tsadlib.configs.type import ConfigType\n",
    "from tsadlib.data_provider.data_factory import data_provider\n",
    "from tsadlib.metrics.threshold import percentile_threshold\n",
    "from tsadlib.models.memto import MEMTO\n",
    "from tsadlib.utils.clustering import k_means_clustering\n",
    "from tsadlib.utils.loss import EntropyLoss, GatheringLoss\n",
    "from tsadlib.utils.traning_stoper import OneEarlyStopping\n",
    "\n",
    "# Set up device for computation (CUDA GPU, Apple M1/M2 GPU, or CPU)\n",
    "if torch.cuda.is_available():\n",
    "    device = 'cuda:0'\n",
    "elif torch.backends.mps.is_available():\n",
    "    device = 'mps'\n",
    "else:\n",
    "    device = 'cpu'\n",
    "\n",
    "log.info(f'use device: {device}')\n",
    "device = torch.device(device)\n",
    "\n",
    "# Define paths for dataset and model checkpoints\n",
    "# DATASET_ROOT = 'E:\\\\liuzhenzhou\\\\datasets'\n",
    "# DATASET_ROOT = '/Users/liuzhenzhou/Documents/backup/datasets/anomaly_detection/npy'\n",
    "DATASET_ROOT = '/home/lzz/Desktop/datasets'\n",
    "DATASET_TYPE = 'MSL'  # Mars Science Laboratory dataset\n",
    "MODEL = 'MEMTO'\n",
    "CHECKPOINTS = os.path.join(LIBRARY_ROOT, 'checkpoints', MODEL)\n",
    "\n",
    "writer = SummaryWriter(os.path.join(LIBRARY_ROOT, 'runs', MODEL).__str__())\n",
    "\n",
    "# Configure TimesNet hyperparameters and training settings\n",
    "args = ConfigType(**{\n",
    "    'model': MODEL,\n",
    "    'mode': 'train',\n",
    "    'dataset_root_path': os.path.join(DATASET_ROOT, DATASET_TYPE),\n",
    "    'window_size': 100,\n",
    "    'batch_size': 256,\n",
    "    'd_model': 8,\n",
    "    'dimension_fcl': 16,\n",
    "    'encoder_layers': 3,\n",
    "    'input_channels': 55,\n",
    "    'output_channels': 55,\n",
    "    'num_memory': 10,\n",
    "    'hyper_parameter_lambda': 0.01,\n",
    "    'dropout': 0.1,\n",
    "    'anomaly_ratio': 1,\n",
    "    'num_epochs': 100,\n",
    "    'learning_rate': 1e-4\n",
    "})\n",
    "\n",
    "# Load training and testing data\n",
    "train_loader, validate_loader, test_loader, k_loader = data_provider(args, split_way='train_validate_k_split')"
   ]
  },
  {
   "cell_type": "markdown",
   "id": "6ae9b6e6b548bba",
   "metadata": {},
   "source": [
    "## 2. Model definition and training\n",
    "\n",
    "### 2.1 First Training for optimize encoder"
   ]
  },
  {
   "cell_type": "code",
   "execution_count": 2,
   "id": "dfbea324ca117527",
   "metadata": {
    "ExecuteTime": {
     "end_time": "2025-03-29T10:43:50.105709Z",
     "start_time": "2025-03-29T10:39:58.635775Z"
    }
   },
   "outputs": [
    {
     "name": "stdout",
     "output_type": "stream",
     "text": [
      "2025-03-29 18:39:58.647 | tsadlib.layers.memory_layer:__init__:78 | \u001B[1mINFO\u001B[0m: \u001B[1mloading memory item with random initialization (for first train phase)\u001B[0m\n",
      "2025-03-29 18:39:59.444 | __main__:<module>:8 | \u001B[1mINFO\u001B[0m: \u001B[1mThe first phase training starts\u001B[0m\n"
     ]
    },
    {
     "name": "stderr",
     "output_type": "stream",
     "text": [
      "Epoch 1 / 100: 100%|██████████| 181/181 [00:06<00:00, 28.03it/s]\n"
     ]
    },
    {
     "name": "stdout",
     "output_type": "stream",
     "text": [
      "2025-03-29 18:40:06.363 | __main__:<module>:58 | \u001B[1mINFO\u001B[0m: \u001B[1mEpoch:  1 cost time: 6.9181    s, train loss: 0.8398840, validate loss: 0.6926710\u001B[0m\n",
      "2025-03-29 18:40:06.366 | tsadlib.utils.traning_stoper:save_checkpoint:104 | \u001B[1mINFO\u001B[0m: \u001B[1mValidation loss decreased (inf --> 0.692671).  Saving model ...\u001B[0m\n"
     ]
    },
    {
     "name": "stderr",
     "output_type": "stream",
     "text": [
      "Epoch 2 / 100: 100%|██████████| 181/181 [00:05<00:00, 32.27it/s]\n"
     ]
    },
    {
     "name": "stdout",
     "output_type": "stream",
     "text": [
      "2025-03-29 18:40:12.452 | __main__:<module>:58 | \u001B[1mINFO\u001B[0m: \u001B[1mEpoch:  2 cost time: 6.0680    s, train loss: 0.7086525, validate loss: 0.6098922\u001B[0m\n",
      "2025-03-29 18:40:12.453 | tsadlib.utils.traning_stoper:save_checkpoint:104 | \u001B[1mINFO\u001B[0m: \u001B[1mValidation loss decreased (0.692671 --> 0.609892).  Saving model ...\u001B[0m\n"
     ]
    },
    {
     "name": "stderr",
     "output_type": "stream",
     "text": [
      "Epoch 3 / 100: 100%|██████████| 181/181 [00:05<00:00, 34.58it/s]\n"
     ]
    },
    {
     "name": "stdout",
     "output_type": "stream",
     "text": [
      "2025-03-29 18:40:18.179 | __main__:<module>:58 | \u001B[1mINFO\u001B[0m: \u001B[1mEpoch:  3 cost time: 5.7075    s, train loss: 0.6585925, validate loss: 0.5812112\u001B[0m\n",
      "2025-03-29 18:40:18.180 | tsadlib.utils.traning_stoper:save_checkpoint:104 | \u001B[1mINFO\u001B[0m: \u001B[1mValidation loss decreased (0.609892 --> 0.581211).  Saving model ...\u001B[0m\n"
     ]
    },
    {
     "name": "stderr",
     "output_type": "stream",
     "text": [
      "Epoch 4 / 100: 100%|██████████| 181/181 [00:05<00:00, 33.27it/s]\n"
     ]
    },
    {
     "name": "stdout",
     "output_type": "stream",
     "text": [
      "2025-03-29 18:40:24.109 | __main__:<module>:58 | \u001B[1mINFO\u001B[0m: \u001B[1mEpoch:  4 cost time: 5.9119    s, train loss: 0.6416343, validate loss: 0.5715920\u001B[0m\n",
      "2025-03-29 18:40:24.110 | tsadlib.utils.traning_stoper:save_checkpoint:104 | \u001B[1mINFO\u001B[0m: \u001B[1mValidation loss decreased (0.581211 --> 0.571592).  Saving model ...\u001B[0m\n"
     ]
    },
    {
     "name": "stderr",
     "output_type": "stream",
     "text": [
      "Epoch 5 / 100: 100%|██████████| 181/181 [00:04<00:00, 43.79it/s]\n"
     ]
    },
    {
     "name": "stdout",
     "output_type": "stream",
     "text": [
      "2025-03-29 18:40:28.724 | __main__:<module>:58 | \u001B[1mINFO\u001B[0m: \u001B[1mEpoch:  5 cost time: 4.5961    s, train loss: 0.6346980, validate loss: 0.5681360\u001B[0m\n",
      "2025-03-29 18:40:28.724 | tsadlib.utils.traning_stoper:save_checkpoint:104 | \u001B[1mINFO\u001B[0m: \u001B[1mValidation loss decreased (0.571592 --> 0.568136).  Saving model ...\u001B[0m\n"
     ]
    },
    {
     "name": "stderr",
     "output_type": "stream",
     "text": [
      "Epoch 6 / 100: 100%|██████████| 181/181 [00:05<00:00, 33.53it/s]\n"
     ]
    },
    {
     "name": "stdout",
     "output_type": "stream",
     "text": [
      "2025-03-29 18:40:34.631 | __main__:<module>:58 | \u001B[1mINFO\u001B[0m: \u001B[1mEpoch:  6 cost time: 5.8879    s, train loss: 0.6300041, validate loss: 0.5639559\u001B[0m\n",
      "2025-03-29 18:40:34.631 | tsadlib.utils.traning_stoper:save_checkpoint:104 | \u001B[1mINFO\u001B[0m: \u001B[1mValidation loss decreased (0.568136 --> 0.563956).  Saving model ...\u001B[0m\n"
     ]
    },
    {
     "name": "stderr",
     "output_type": "stream",
     "text": [
      "Epoch 7 / 100: 100%|██████████| 181/181 [00:05<00:00, 33.65it/s]\n"
     ]
    },
    {
     "name": "stdout",
     "output_type": "stream",
     "text": [
      "2025-03-29 18:40:40.521 | __main__:<module>:58 | \u001B[1mINFO\u001B[0m: \u001B[1mEpoch:  7 cost time: 5.8613    s, train loss: 0.6259098, validate loss: 0.5588730\u001B[0m\n",
      "2025-03-29 18:40:40.521 | tsadlib.utils.traning_stoper:save_checkpoint:104 | \u001B[1mINFO\u001B[0m: \u001B[1mValidation loss decreased (0.563956 --> 0.558873).  Saving model ...\u001B[0m\n"
     ]
    },
    {
     "name": "stderr",
     "output_type": "stream",
     "text": [
      "Epoch 8 / 100: 100%|██████████| 181/181 [00:05<00:00, 33.60it/s]\n"
     ]
    },
    {
     "name": "stdout",
     "output_type": "stream",
     "text": [
      "2025-03-29 18:40:46.410 | __main__:<module>:58 | \u001B[1mINFO\u001B[0m: \u001B[1mEpoch:  8 cost time: 5.8492    s, train loss: 0.6213103, validate loss: 0.5519064\u001B[0m\n",
      "2025-03-29 18:40:46.410 | tsadlib.utils.traning_stoper:save_checkpoint:104 | \u001B[1mINFO\u001B[0m: \u001B[1mValidation loss decreased (0.558873 --> 0.551906).  Saving model ...\u001B[0m\n"
     ]
    },
    {
     "name": "stderr",
     "output_type": "stream",
     "text": [
      "Epoch 9 / 100: 100%|██████████| 181/181 [00:05<00:00, 33.82it/s]\n"
     ]
    },
    {
     "name": "stdout",
     "output_type": "stream",
     "text": [
      "2025-03-29 18:40:52.243 | __main__:<module>:58 | \u001B[1mINFO\u001B[0m: \u001B[1mEpoch:  9 cost time: 5.8146    s, train loss: 0.6152343, validate loss: 0.5432107\u001B[0m\n",
      "2025-03-29 18:40:52.243 | tsadlib.utils.traning_stoper:save_checkpoint:104 | \u001B[1mINFO\u001B[0m: \u001B[1mValidation loss decreased (0.551906 --> 0.543211).  Saving model ...\u001B[0m\n"
     ]
    },
    {
     "name": "stderr",
     "output_type": "stream",
     "text": [
      "Epoch 10 / 100: 100%|██████████| 181/181 [00:05<00:00, 34.36it/s]\n"
     ]
    },
    {
     "name": "stdout",
     "output_type": "stream",
     "text": [
      "2025-03-29 18:40:57.999 | __main__:<module>:58 | \u001B[1mINFO\u001B[0m: \u001B[1mEpoch: 10 cost time: 5.7367    s, train loss: 0.6076914, validate loss: 0.5362255\u001B[0m\n",
      "2025-03-29 18:40:57.999 | tsadlib.utils.traning_stoper:save_checkpoint:104 | \u001B[1mINFO\u001B[0m: \u001B[1mValidation loss decreased (0.543211 --> 0.536225).  Saving model ...\u001B[0m\n"
     ]
    },
    {
     "name": "stderr",
     "output_type": "stream",
     "text": [
      "Epoch 11 / 100: 100%|██████████| 181/181 [00:05<00:00, 33.19it/s]\n"
     ]
    },
    {
     "name": "stdout",
     "output_type": "stream",
     "text": [
      "2025-03-29 18:41:03.982 | __main__:<module>:58 | \u001B[1mINFO\u001B[0m: \u001B[1mEpoch: 11 cost time: 5.9649    s, train loss: 0.6024238, validate loss: 0.5291335\u001B[0m\n",
      "2025-03-29 18:41:03.983 | tsadlib.utils.traning_stoper:save_checkpoint:104 | \u001B[1mINFO\u001B[0m: \u001B[1mValidation loss decreased (0.536225 --> 0.529133).  Saving model ...\u001B[0m\n"
     ]
    },
    {
     "name": "stderr",
     "output_type": "stream",
     "text": [
      "Epoch 12 / 100: 100%|██████████| 181/181 [00:04<00:00, 41.43it/s]\n"
     ]
    },
    {
     "name": "stdout",
     "output_type": "stream",
     "text": [
      "2025-03-29 18:41:08.841 | __main__:<module>:58 | \u001B[1mINFO\u001B[0m: \u001B[1mEpoch: 12 cost time: 4.8366    s, train loss: 0.5949957, validate loss: 0.5217792\u001B[0m\n",
      "2025-03-29 18:41:08.841 | tsadlib.utils.traning_stoper:save_checkpoint:104 | \u001B[1mINFO\u001B[0m: \u001B[1mValidation loss decreased (0.529133 --> 0.521779).  Saving model ...\u001B[0m\n"
     ]
    },
    {
     "name": "stderr",
     "output_type": "stream",
     "text": [
      "Epoch 13 / 100: 100%|██████████| 181/181 [00:03<00:00, 58.16it/s]\n"
     ]
    },
    {
     "name": "stdout",
     "output_type": "stream",
     "text": [
      "2025-03-29 18:41:12.458 | __main__:<module>:58 | \u001B[1mINFO\u001B[0m: \u001B[1mEpoch: 13 cost time: 3.5971    s, train loss: 0.5899018, validate loss: 0.5152680\u001B[0m\n",
      "2025-03-29 18:41:12.458 | tsadlib.utils.traning_stoper:save_checkpoint:104 | \u001B[1mINFO\u001B[0m: \u001B[1mValidation loss decreased (0.521779 --> 0.515268).  Saving model ...\u001B[0m\n"
     ]
    },
    {
     "name": "stderr",
     "output_type": "stream",
     "text": [
      "Epoch 14 / 100: 100%|██████████| 181/181 [00:05<00:00, 32.90it/s]\n"
     ]
    },
    {
     "name": "stdout",
     "output_type": "stream",
     "text": [
      "2025-03-29 18:41:18.449 | __main__:<module>:58 | \u001B[1mINFO\u001B[0m: \u001B[1mEpoch: 14 cost time: 5.9680    s, train loss: 0.5838872, validate loss: 0.5099099\u001B[0m\n",
      "2025-03-29 18:41:18.450 | tsadlib.utils.traning_stoper:save_checkpoint:104 | \u001B[1mINFO\u001B[0m: \u001B[1mValidation loss decreased (0.515268 --> 0.509910).  Saving model ...\u001B[0m\n"
     ]
    },
    {
     "name": "stderr",
     "output_type": "stream",
     "text": [
      "Epoch 15 / 100: 100%|██████████| 181/181 [00:05<00:00, 33.78it/s]\n"
     ]
    },
    {
     "name": "stdout",
     "output_type": "stream",
     "text": [
      "2025-03-29 18:41:24.332 | __main__:<module>:58 | \u001B[1mINFO\u001B[0m: \u001B[1mEpoch: 15 cost time: 5.8513    s, train loss: 0.5780599, validate loss: 0.5024456\u001B[0m\n",
      "2025-03-29 18:41:24.332 | tsadlib.utils.traning_stoper:save_checkpoint:104 | \u001B[1mINFO\u001B[0m: \u001B[1mValidation loss decreased (0.509910 --> 0.502446).  Saving model ...\u001B[0m\n"
     ]
    },
    {
     "name": "stderr",
     "output_type": "stream",
     "text": [
      "Epoch 16 / 100: 100%|██████████| 181/181 [00:05<00:00, 33.70it/s]\n"
     ]
    },
    {
     "name": "stdout",
     "output_type": "stream",
     "text": [
      "2025-03-29 18:41:30.211 | __main__:<module>:58 | \u001B[1mINFO\u001B[0m: \u001B[1mEpoch: 16 cost time: 5.8580    s, train loss: 0.5720642, validate loss: 0.4954514\u001B[0m\n",
      "2025-03-29 18:41:30.212 | tsadlib.utils.traning_stoper:save_checkpoint:104 | \u001B[1mINFO\u001B[0m: \u001B[1mValidation loss decreased (0.502446 --> 0.495451).  Saving model ...\u001B[0m\n"
     ]
    },
    {
     "name": "stderr",
     "output_type": "stream",
     "text": [
      "Epoch 17 / 100: 100%|██████████| 181/181 [00:06<00:00, 29.33it/s]\n"
     ]
    },
    {
     "name": "stdout",
     "output_type": "stream",
     "text": [
      "2025-03-29 18:41:36.920 | __main__:<module>:58 | \u001B[1mINFO\u001B[0m: \u001B[1mEpoch: 17 cost time: 6.6797    s, train loss: 0.5671369, validate loss: 0.4898043\u001B[0m\n",
      "2025-03-29 18:41:36.920 | tsadlib.utils.traning_stoper:save_checkpoint:104 | \u001B[1mINFO\u001B[0m: \u001B[1mValidation loss decreased (0.495451 --> 0.489804).  Saving model ...\u001B[0m\n"
     ]
    },
    {
     "name": "stderr",
     "output_type": "stream",
     "text": [
      "Epoch 18 / 100: 100%|██████████| 181/181 [00:05<00:00, 31.25it/s]\n"
     ]
    },
    {
     "name": "stdout",
     "output_type": "stream",
     "text": [
      "2025-03-29 18:41:43.229 | __main__:<module>:58 | \u001B[1mINFO\u001B[0m: \u001B[1mEpoch: 18 cost time: 6.2816    s, train loss: 0.5612674, validate loss: 0.4830097\u001B[0m\n",
      "2025-03-29 18:41:43.229 | tsadlib.utils.traning_stoper:save_checkpoint:104 | \u001B[1mINFO\u001B[0m: \u001B[1mValidation loss decreased (0.489804 --> 0.483010).  Saving model ...\u001B[0m\n"
     ]
    },
    {
     "name": "stderr",
     "output_type": "stream",
     "text": [
      "Epoch 19 / 100: 100%|██████████| 181/181 [00:05<00:00, 33.26it/s]\n"
     ]
    },
    {
     "name": "stdout",
     "output_type": "stream",
     "text": [
      "2025-03-29 18:41:49.166 | __main__:<module>:58 | \u001B[1mINFO\u001B[0m: \u001B[1mEpoch: 19 cost time: 5.9163    s, train loss: 0.5563133, validate loss: 0.4814906\u001B[0m\n",
      "2025-03-29 18:41:49.167 | tsadlib.utils.traning_stoper:save_checkpoint:104 | \u001B[1mINFO\u001B[0m: \u001B[1mValidation loss decreased (0.483010 --> 0.481491).  Saving model ...\u001B[0m\n"
     ]
    },
    {
     "name": "stderr",
     "output_type": "stream",
     "text": [
      "Epoch 20 / 100: 100%|██████████| 181/181 [00:05<00:00, 33.77it/s]\n"
     ]
    },
    {
     "name": "stdout",
     "output_type": "stream",
     "text": [
      "2025-03-29 18:41:55.026 | __main__:<module>:58 | \u001B[1mINFO\u001B[0m: \u001B[1mEpoch: 20 cost time: 5.8380    s, train loss: 0.5524517, validate loss: 0.4750450\u001B[0m\n",
      "2025-03-29 18:41:55.027 | tsadlib.utils.traning_stoper:save_checkpoint:104 | \u001B[1mINFO\u001B[0m: \u001B[1mValidation loss decreased (0.481491 --> 0.475045).  Saving model ...\u001B[0m\n"
     ]
    },
    {
     "name": "stderr",
     "output_type": "stream",
     "text": [
      "Epoch 21 / 100: 100%|██████████| 181/181 [00:05<00:00, 34.48it/s]\n"
     ]
    },
    {
     "name": "stdout",
     "output_type": "stream",
     "text": [
      "2025-03-29 18:42:00.768 | __main__:<module>:58 | \u001B[1mINFO\u001B[0m: \u001B[1mEpoch: 21 cost time: 5.7214    s, train loss: 0.5469675, validate loss: 0.4697276\u001B[0m\n",
      "2025-03-29 18:42:00.769 | tsadlib.utils.traning_stoper:save_checkpoint:104 | \u001B[1mINFO\u001B[0m: \u001B[1mValidation loss decreased (0.475045 --> 0.469728).  Saving model ...\u001B[0m\n"
     ]
    },
    {
     "name": "stderr",
     "output_type": "stream",
     "text": [
      "Epoch 22 / 100: 100%|██████████| 181/181 [00:05<00:00, 33.99it/s]\n"
     ]
    },
    {
     "name": "stdout",
     "output_type": "stream",
     "text": [
      "2025-03-29 18:42:06.582 | __main__:<module>:58 | \u001B[1mINFO\u001B[0m: \u001B[1mEpoch: 22 cost time: 5.7935    s, train loss: 0.5436901, validate loss: 0.4655495\u001B[0m\n",
      "2025-03-29 18:42:06.582 | tsadlib.utils.traning_stoper:save_checkpoint:104 | \u001B[1mINFO\u001B[0m: \u001B[1mValidation loss decreased (0.469728 --> 0.465549).  Saving model ...\u001B[0m\n"
     ]
    },
    {
     "name": "stderr",
     "output_type": "stream",
     "text": [
      "Epoch 23 / 100: 100%|██████████| 181/181 [00:05<00:00, 33.60it/s]\n"
     ]
    },
    {
     "name": "stdout",
     "output_type": "stream",
     "text": [
      "2025-03-29 18:42:12.497 | __main__:<module>:58 | \u001B[1mINFO\u001B[0m: \u001B[1mEpoch: 23 cost time: 5.8947    s, train loss: 0.5397231, validate loss: 0.4629595\u001B[0m\n",
      "2025-03-29 18:42:12.497 | tsadlib.utils.traning_stoper:save_checkpoint:104 | \u001B[1mINFO\u001B[0m: \u001B[1mValidation loss decreased (0.465549 --> 0.462960).  Saving model ...\u001B[0m\n"
     ]
    },
    {
     "name": "stderr",
     "output_type": "stream",
     "text": [
      "Epoch 24 / 100: 100%|██████████| 181/181 [00:05<00:00, 33.68it/s]\n"
     ]
    },
    {
     "name": "stdout",
     "output_type": "stream",
     "text": [
      "2025-03-29 18:42:18.377 | __main__:<module>:58 | \u001B[1mINFO\u001B[0m: \u001B[1mEpoch: 24 cost time: 5.8616    s, train loss: 0.5368459, validate loss: 0.4590912\u001B[0m\n",
      "2025-03-29 18:42:18.378 | tsadlib.utils.traning_stoper:save_checkpoint:104 | \u001B[1mINFO\u001B[0m: \u001B[1mValidation loss decreased (0.462960 --> 0.459091).  Saving model ...\u001B[0m\n"
     ]
    },
    {
     "name": "stderr",
     "output_type": "stream",
     "text": [
      "Epoch 25 / 100: 100%|██████████| 181/181 [00:05<00:00, 32.82it/s]\n"
     ]
    },
    {
     "name": "stdout",
     "output_type": "stream",
     "text": [
      "2025-03-29 18:42:24.547 | __main__:<module>:58 | \u001B[1mINFO\u001B[0m: \u001B[1mEpoch: 25 cost time: 6.1507    s, train loss: 0.5336146, validate loss: 0.4578675\u001B[0m\n",
      "2025-03-29 18:42:24.547 | tsadlib.utils.traning_stoper:save_checkpoint:104 | \u001B[1mINFO\u001B[0m: \u001B[1mValidation loss decreased (0.459091 --> 0.457868).  Saving model ...\u001B[0m\n"
     ]
    },
    {
     "name": "stderr",
     "output_type": "stream",
     "text": [
      "Epoch 26 / 100: 100%|██████████| 181/181 [00:05<00:00, 32.57it/s]\n"
     ]
    },
    {
     "name": "stdout",
     "output_type": "stream",
     "text": [
      "2025-03-29 18:42:30.607 | __main__:<module>:58 | \u001B[1mINFO\u001B[0m: \u001B[1mEpoch: 26 cost time: 6.0386    s, train loss: 0.5295277, validate loss: 0.4559666\u001B[0m\n",
      "2025-03-29 18:42:30.607 | tsadlib.utils.traning_stoper:save_checkpoint:104 | \u001B[1mINFO\u001B[0m: \u001B[1mValidation loss decreased (0.457868 --> 0.455967).  Saving model ...\u001B[0m\n"
     ]
    },
    {
     "name": "stderr",
     "output_type": "stream",
     "text": [
      "Epoch 27 / 100: 100%|██████████| 181/181 [00:05<00:00, 33.28it/s]\n"
     ]
    },
    {
     "name": "stdout",
     "output_type": "stream",
     "text": [
      "2025-03-29 18:42:36.536 | __main__:<module>:58 | \u001B[1mINFO\u001B[0m: \u001B[1mEpoch: 27 cost time: 5.9098    s, train loss: 0.5282555, validate loss: 0.4535049\u001B[0m\n",
      "2025-03-29 18:42:36.537 | tsadlib.utils.traning_stoper:save_checkpoint:104 | \u001B[1mINFO\u001B[0m: \u001B[1mValidation loss decreased (0.455967 --> 0.453505).  Saving model ...\u001B[0m\n"
     ]
    },
    {
     "name": "stderr",
     "output_type": "stream",
     "text": [
      "Epoch 28 / 100: 100%|██████████| 181/181 [00:05<00:00, 33.44it/s]\n"
     ]
    },
    {
     "name": "stdout",
     "output_type": "stream",
     "text": [
      "2025-03-29 18:42:42.432 | __main__:<module>:58 | \u001B[1mINFO\u001B[0m: \u001B[1mEpoch: 28 cost time: 5.8765    s, train loss: 0.5253387, validate loss: 0.4536914\u001B[0m\n",
      "2025-03-29 18:42:42.432 | tsadlib.utils.traning_stoper:__call__:83 | \u001B[33m\u001B[1mWARNING\u001B[0m: \u001B[33m\u001B[1mEarlyStopping counter: 1 out of 10\u001B[0m\n"
     ]
    },
    {
     "name": "stderr",
     "output_type": "stream",
     "text": [
      "Epoch 29 / 100: 100%|██████████| 181/181 [00:05<00:00, 33.70it/s]\n"
     ]
    },
    {
     "name": "stdout",
     "output_type": "stream",
     "text": [
      "2025-03-29 18:42:48.282 | __main__:<module>:58 | \u001B[1mINFO\u001B[0m: \u001B[1mEpoch: 29 cost time: 5.8342    s, train loss: 0.5231520, validate loss: 0.4523649\u001B[0m\n",
      "2025-03-29 18:42:48.282 | tsadlib.utils.traning_stoper:save_checkpoint:104 | \u001B[1mINFO\u001B[0m: \u001B[1mValidation loss decreased (0.453505 --> 0.452365).  Saving model ...\u001B[0m\n"
     ]
    },
    {
     "name": "stderr",
     "output_type": "stream",
     "text": [
      "Epoch 30 / 100: 100%|██████████| 181/181 [00:05<00:00, 33.44it/s]\n"
     ]
    },
    {
     "name": "stdout",
     "output_type": "stream",
     "text": [
      "2025-03-29 18:42:54.181 | __main__:<module>:58 | \u001B[1mINFO\u001B[0m: \u001B[1mEpoch: 30 cost time: 5.8800    s, train loss: 0.5210590, validate loss: 0.4520588\u001B[0m\n",
      "2025-03-29 18:42:54.181 | tsadlib.utils.traning_stoper:save_checkpoint:104 | \u001B[1mINFO\u001B[0m: \u001B[1mValidation loss decreased (0.452365 --> 0.452059).  Saving model ...\u001B[0m\n"
     ]
    },
    {
     "name": "stderr",
     "output_type": "stream",
     "text": [
      "Epoch 31 / 100: 100%|██████████| 181/181 [00:05<00:00, 35.05it/s]\n"
     ]
    },
    {
     "name": "stdout",
     "output_type": "stream",
     "text": [
      "2025-03-29 18:42:59.835 | __main__:<module>:58 | \u001B[1mINFO\u001B[0m: \u001B[1mEpoch: 31 cost time: 5.6358    s, train loss: 0.5203099, validate loss: 0.4496223\u001B[0m\n",
      "2025-03-29 18:42:59.836 | tsadlib.utils.traning_stoper:save_checkpoint:104 | \u001B[1mINFO\u001B[0m: \u001B[1mValidation loss decreased (0.452059 --> 0.449622).  Saving model ...\u001B[0m\n"
     ]
    },
    {
     "name": "stderr",
     "output_type": "stream",
     "text": [
      "Epoch 32 / 100: 100%|██████████| 181/181 [00:03<00:00, 58.16it/s]\n"
     ]
    },
    {
     "name": "stdout",
     "output_type": "stream",
     "text": [
      "2025-03-29 18:43:03.451 | __main__:<module>:58 | \u001B[1mINFO\u001B[0m: \u001B[1mEpoch: 32 cost time: 3.5956    s, train loss: 0.5187764, validate loss: 0.4478480\u001B[0m\n",
      "2025-03-29 18:43:03.451 | tsadlib.utils.traning_stoper:save_checkpoint:104 | \u001B[1mINFO\u001B[0m: \u001B[1mValidation loss decreased (0.449622 --> 0.447848).  Saving model ...\u001B[0m\n"
     ]
    },
    {
     "name": "stderr",
     "output_type": "stream",
     "text": [
      "Epoch 33 / 100: 100%|██████████| 181/181 [00:04<00:00, 38.06it/s]\n"
     ]
    },
    {
     "name": "stdout",
     "output_type": "stream",
     "text": [
      "2025-03-29 18:43:08.685 | __main__:<module>:58 | \u001B[1mINFO\u001B[0m: \u001B[1mEpoch: 33 cost time: 5.2154    s, train loss: 0.5177248, validate loss: 0.4493310\u001B[0m\n",
      "2025-03-29 18:43:08.686 | tsadlib.utils.traning_stoper:__call__:83 | \u001B[33m\u001B[1mWARNING\u001B[0m: \u001B[33m\u001B[1mEarlyStopping counter: 1 out of 10\u001B[0m\n"
     ]
    },
    {
     "name": "stderr",
     "output_type": "stream",
     "text": [
      "Epoch 34 / 100: 100%|██████████| 181/181 [00:03<00:00, 45.41it/s]\n"
     ]
    },
    {
     "name": "stdout",
     "output_type": "stream",
     "text": [
      "2025-03-29 18:43:13.165 | __main__:<module>:58 | \u001B[1mINFO\u001B[0m: \u001B[1mEpoch: 34 cost time: 4.4626    s, train loss: 0.5168036, validate loss: 0.4501432\u001B[0m\n",
      "2025-03-29 18:43:13.166 | tsadlib.utils.traning_stoper:__call__:83 | \u001B[33m\u001B[1mWARNING\u001B[0m: \u001B[33m\u001B[1mEarlyStopping counter: 2 out of 10\u001B[0m\n"
     ]
    },
    {
     "name": "stderr",
     "output_type": "stream",
     "text": [
      "Epoch 35 / 100: 100%|██████████| 181/181 [00:03<00:00, 58.11it/s]\n"
     ]
    },
    {
     "name": "stdout",
     "output_type": "stream",
     "text": [
      "2025-03-29 18:43:16.749 | __main__:<module>:58 | \u001B[1mINFO\u001B[0m: \u001B[1mEpoch: 35 cost time: 3.5681    s, train loss: 0.5167439, validate loss: 0.4497151\u001B[0m\n",
      "2025-03-29 18:43:16.750 | tsadlib.utils.traning_stoper:__call__:83 | \u001B[33m\u001B[1mWARNING\u001B[0m: \u001B[33m\u001B[1mEarlyStopping counter: 3 out of 10\u001B[0m\n"
     ]
    },
    {
     "name": "stderr",
     "output_type": "stream",
     "text": [
      "Epoch 36 / 100: 100%|██████████| 181/181 [00:03<00:00, 58.41it/s]\n"
     ]
    },
    {
     "name": "stdout",
     "output_type": "stream",
     "text": [
      "2025-03-29 18:43:20.323 | __main__:<module>:58 | \u001B[1mINFO\u001B[0m: \u001B[1mEpoch: 36 cost time: 3.5581    s, train loss: 0.5150948, validate loss: 0.4498714\u001B[0m\n",
      "2025-03-29 18:43:20.324 | tsadlib.utils.traning_stoper:__call__:83 | \u001B[33m\u001B[1mWARNING\u001B[0m: \u001B[33m\u001B[1mEarlyStopping counter: 4 out of 10\u001B[0m\n"
     ]
    },
    {
     "name": "stderr",
     "output_type": "stream",
     "text": [
      "Epoch 37 / 100: 100%|██████████| 181/181 [00:03<00:00, 58.82it/s]\n"
     ]
    },
    {
     "name": "stdout",
     "output_type": "stream",
     "text": [
      "2025-03-29 18:43:23.872 | __main__:<module>:58 | \u001B[1mINFO\u001B[0m: \u001B[1mEpoch: 37 cost time: 3.5325    s, train loss: 0.5148232, validate loss: 0.4515271\u001B[0m\n",
      "2025-03-29 18:43:23.873 | tsadlib.utils.traning_stoper:__call__:83 | \u001B[33m\u001B[1mWARNING\u001B[0m: \u001B[33m\u001B[1mEarlyStopping counter: 5 out of 10\u001B[0m\n"
     ]
    },
    {
     "name": "stderr",
     "output_type": "stream",
     "text": [
      "Epoch 38 / 100: 100%|██████████| 181/181 [00:03<00:00, 58.15it/s]\n"
     ]
    },
    {
     "name": "stdout",
     "output_type": "stream",
     "text": [
      "2025-03-29 18:43:27.449 | __main__:<module>:58 | \u001B[1mINFO\u001B[0m: \u001B[1mEpoch: 38 cost time: 3.5637    s, train loss: 0.5144337, validate loss: 0.4486508\u001B[0m\n",
      "2025-03-29 18:43:27.450 | tsadlib.utils.traning_stoper:__call__:83 | \u001B[33m\u001B[1mWARNING\u001B[0m: \u001B[33m\u001B[1mEarlyStopping counter: 6 out of 10\u001B[0m\n"
     ]
    },
    {
     "name": "stderr",
     "output_type": "stream",
     "text": [
      "Epoch 39 / 100: 100%|██████████| 181/181 [00:04<00:00, 39.68it/s]\n"
     ]
    },
    {
     "name": "stdout",
     "output_type": "stream",
     "text": [
      "2025-03-29 18:43:32.490 | __main__:<module>:58 | \u001B[1mINFO\u001B[0m: \u001B[1mEpoch: 39 cost time: 5.0248    s, train loss: 0.5138806, validate loss: 0.4507422\u001B[0m\n",
      "2025-03-29 18:43:32.490 | tsadlib.utils.traning_stoper:__call__:83 | \u001B[33m\u001B[1mWARNING\u001B[0m: \u001B[33m\u001B[1mEarlyStopping counter: 7 out of 10\u001B[0m\n"
     ]
    },
    {
     "name": "stderr",
     "output_type": "stream",
     "text": [
      "Epoch 40 / 100: 100%|██████████| 181/181 [00:05<00:00, 33.59it/s]\n"
     ]
    },
    {
     "name": "stdout",
     "output_type": "stream",
     "text": [
      "2025-03-29 18:43:38.359 | __main__:<module>:58 | \u001B[1mINFO\u001B[0m: \u001B[1mEpoch: 40 cost time: 5.8541    s, train loss: 0.5137917, validate loss: 0.4500456\u001B[0m\n",
      "2025-03-29 18:43:38.360 | tsadlib.utils.traning_stoper:__call__:83 | \u001B[33m\u001B[1mWARNING\u001B[0m: \u001B[33m\u001B[1mEarlyStopping counter: 8 out of 10\u001B[0m\n"
     ]
    },
    {
     "name": "stderr",
     "output_type": "stream",
     "text": [
      "Epoch 41 / 100: 100%|██████████| 181/181 [00:05<00:00, 33.81it/s]\n"
     ]
    },
    {
     "name": "stdout",
     "output_type": "stream",
     "text": [
      "2025-03-29 18:43:44.197 | __main__:<module>:58 | \u001B[1mINFO\u001B[0m: \u001B[1mEpoch: 41 cost time: 5.8210    s, train loss: 0.5128271, validate loss: 0.4504797\u001B[0m\n",
      "2025-03-29 18:43:44.197 | tsadlib.utils.traning_stoper:__call__:83 | \u001B[33m\u001B[1mWARNING\u001B[0m: \u001B[33m\u001B[1mEarlyStopping counter: 9 out of 10\u001B[0m\n"
     ]
    },
    {
     "name": "stderr",
     "output_type": "stream",
     "text": [
      "Epoch 42 / 100: 100%|██████████| 181/181 [00:05<00:00, 33.53it/s]\n"
     ]
    },
    {
     "name": "stdout",
     "output_type": "stream",
     "text": [
      "2025-03-29 18:43:50.101 | __main__:<module>:58 | \u001B[1mINFO\u001B[0m: \u001B[1mEpoch: 42 cost time: 5.8863    s, train loss: 0.5120534, validate loss: 0.4508956\u001B[0m\n",
      "2025-03-29 18:43:50.101 | tsadlib.utils.traning_stoper:__call__:83 | \u001B[33m\u001B[1mWARNING\u001B[0m: \u001B[33m\u001B[1mEarlyStopping counter: 10 out of 10\u001B[0m\n",
      "2025-03-29 18:43:50.101 | __main__:<module>:66 | \u001B[33m\u001B[1mWARNING\u001B[0m: \u001B[33m\u001B[1mEarly stopping triggered\u001B[0m\n"
     ]
    }
   ],
   "source": [
    "# Initialize model and training components\n",
    "model = MEMTO(args).to(device)\n",
    "optimizer = torch.optim.Adam(model.parameters(), lr=args.learning_rate)\n",
    "criterion = nn.MSELoss()\n",
    "entropy_criterion = EntropyLoss()\n",
    "early_stopping = OneEarlyStopping(args.patience, CHECKPOINTS, DATASET_TYPE)\n",
    "train_steps = len(train_loader)\n",
    "log.info('The first phase training starts')\n",
    "\n",
    "for epoch in range(args.num_epochs):\n",
    "    model.train()\n",
    "    train_losses = []\n",
    "    reconstruct_losses = []\n",
    "    entropy_losses = []\n",
    "    validate_losses = []\n",
    "    iter_count = 0\n",
    "    epoch_time = time.time()\n",
    "\n",
    "    model.train()\n",
    "    for i, (x_data, _) in enumerate(tqdm(train_loader, desc=f'Epoch {epoch + 1} / {args.num_epochs}')):\n",
    "        iter_count += 1\n",
    "        optimizer.zero_grad()\n",
    "        x_data = x_data.float().to(device)\n",
    "\n",
    "        # Forward pass\n",
    "        output_dict = model(x_data)\n",
    "        output, attention = output_dict['output'], output_dict['attention']\n",
    "        reconstruct_loss = criterion(output, x_data)\n",
    "        entropy_loss = entropy_criterion(attention)\n",
    "        loss = reconstruct_loss + args.hyper_parameter_lambda * entropy_loss\n",
    "\n",
    "        if (i + 1) % 100 == 0:\n",
    "            writer.add_scalar('Loss/Train', loss.item(), epoch * train_steps + i)\n",
    "            writer.add_scalar('Loss/Reconstruct', reconstruct_loss.item(), epoch * train_steps + i)\n",
    "            writer.add_scalar('Loss/Entropy', entropy_loss.item(), epoch * train_steps + i)\n",
    "\n",
    "        # Backward pass\n",
    "        loss.backward()\n",
    "        optimizer.step()\n",
    "        train_losses.append(loss.item())\n",
    "        reconstruct_losses.append(reconstruct_loss.item())\n",
    "        entropy_losses.append(entropy_loss)\n",
    "\n",
    "    model.eval()\n",
    "    with torch.no_grad():\n",
    "        for i, (x_data, _) in enumerate(validate_loader):\n",
    "            x_data = x_data.float().to(device)\n",
    "            # Forward pass\n",
    "            output_dict = model(x_data)\n",
    "            output, attention = output_dict['output'], output_dict['attention']\n",
    "            reconstruct_loss = criterion(output, x_data)\n",
    "            entropy_loss = entropy_criterion(attention)\n",
    "            loss = reconstruct_loss + args.hyper_parameter_lambda * entropy_loss\n",
    "            validate_losses.append(loss.item())\n",
    "\n",
    "    train_avg_loss = np.average(train_losses)\n",
    "    validate_avg_loss = np.average(validate_losses)\n",
    "    log.info(\"Epoch: {:>2} cost time: {:<10.4f}s, train loss: {:<.7f}, validate loss: {:<.7f}\", epoch + 1,\n",
    "             time.time() - epoch_time, train_avg_loss, validate_avg_loss)\n",
    "\n",
    "    writer.add_scalars(\"Loss\", {\"Train\": train_avg_loss, \"Validation\": validate_avg_loss}, epoch)\n",
    "\n",
    "    # Early stopping check\n",
    "    early_stopping(validate_avg_loss, model)\n",
    "    if early_stopping.early_stop:\n",
    "        log.warning(\"Early stopping triggered\")\n",
    "        break"
   ]
  },
  {
   "cell_type": "markdown",
   "id": "fec7bf384c0f7d06",
   "metadata": {},
   "source": [
    "### 2.2  The second training for reducing a risk of instability"
   ]
  },
  {
   "cell_type": "code",
   "execution_count": 3,
   "id": "bdab567fae3e6d74",
   "metadata": {
    "ExecuteTime": {
     "end_time": "2025-03-29T10:47:53.837244Z",
     "start_time": "2025-03-29T10:43:50.254183Z"
    }
   },
   "outputs": [
    {
     "name": "stdout",
     "output_type": "stream",
     "text": [
      "2025-03-29 18:43:50.478 | tsadlib.utils.clustering:k_means_clustering:34 | \u001B[1mINFO\u001B[0m: \u001B[1mRunning K-Means Clustering with 10 clusters\u001B[0m\n",
      "running k-means on cuda..\n"
     ]
    },
    {
     "name": "stderr",
     "output_type": "stream",
     "text": [
      "[running kmeans]: 10it [00:00, 12.24it/s, center_shift=0.000924, iteration=10, tol=0.001000]\n"
     ]
    },
    {
     "name": "stdout",
     "output_type": "stream",
     "text": [
      "2025-03-29 18:43:51.313 | tsadlib.utils.clustering:k_means_clustering:45 | \u001B[1mINFO\u001B[0m: \u001B[1mK-Means clustering completed in 0.84s\u001B[0m\n",
      "2025-03-29 18:43:51.317 | tsadlib.layers.memory_layer:__init__:83 | \u001B[1mINFO\u001B[0m: \u001B[1mloading memory item with first train's result (for second train or test phase)\u001B[0m\n",
      "2025-03-29 18:43:51.319 | __main__:<module>:20 | \u001B[1mINFO\u001B[0m: \u001B[1mThe second phase training starts\u001B[0m\n"
     ]
    },
    {
     "name": "stderr",
     "output_type": "stream",
     "text": [
      "Epoch 1 / 100: 100%|██████████| 181/181 [00:05<00:00, 33.61it/s]\n"
     ]
    },
    {
     "name": "stdout",
     "output_type": "stream",
     "text": [
      "2025-03-29 18:43:57.189 | __main__:<module>:69 | \u001B[1mINFO\u001B[0m: \u001B[1mEpoch:  1 cost time: 5.8575    s, train loss: 0.8360172, validate loss: 0.7207122\u001B[0m\n",
      "2025-03-29 18:43:57.189 | tsadlib.utils.traning_stoper:save_checkpoint:104 | \u001B[1mINFO\u001B[0m: \u001B[1mValidation loss decreased (inf --> 0.720712).  Saving model ...\u001B[0m\n"
     ]
    },
    {
     "name": "stderr",
     "output_type": "stream",
     "text": [
      "Epoch 2 / 100: 100%|██████████| 181/181 [00:05<00:00, 33.56it/s]\n"
     ]
    },
    {
     "name": "stdout",
     "output_type": "stream",
     "text": [
      "2025-03-29 18:44:03.070 | __main__:<module>:69 | \u001B[1mINFO\u001B[0m: \u001B[1mEpoch:  2 cost time: 5.8652    s, train loss: 0.7244123, validate loss: 0.6110590\u001B[0m\n",
      "2025-03-29 18:44:03.071 | tsadlib.utils.traning_stoper:save_checkpoint:104 | \u001B[1mINFO\u001B[0m: \u001B[1mValidation loss decreased (0.720712 --> 0.611059).  Saving model ...\u001B[0m\n"
     ]
    },
    {
     "name": "stderr",
     "output_type": "stream",
     "text": [
      "Epoch 3 / 100: 100%|██████████| 181/181 [00:04<00:00, 37.67it/s]\n"
     ]
    },
    {
     "name": "stdout",
     "output_type": "stream",
     "text": [
      "2025-03-29 18:44:08.376 | __main__:<module>:69 | \u001B[1mINFO\u001B[0m: \u001B[1mEpoch:  3 cost time: 5.2855    s, train loss: 0.6570321, validate loss: 0.5780389\u001B[0m\n",
      "2025-03-29 18:44:08.376 | tsadlib.utils.traning_stoper:save_checkpoint:104 | \u001B[1mINFO\u001B[0m: \u001B[1mValidation loss decreased (0.611059 --> 0.578039).  Saving model ...\u001B[0m\n"
     ]
    },
    {
     "name": "stderr",
     "output_type": "stream",
     "text": [
      "Epoch 4 / 100: 100%|██████████| 181/181 [00:05<00:00, 33.52it/s]\n"
     ]
    },
    {
     "name": "stdout",
     "output_type": "stream",
     "text": [
      "2025-03-29 18:44:14.260 | __main__:<module>:69 | \u001B[1mINFO\u001B[0m: \u001B[1mEpoch:  4 cost time: 5.8615    s, train loss: 0.6389144, validate loss: 0.5681273\u001B[0m\n",
      "2025-03-29 18:44:14.260 | tsadlib.utils.traning_stoper:save_checkpoint:104 | \u001B[1mINFO\u001B[0m: \u001B[1mValidation loss decreased (0.578039 --> 0.568127).  Saving model ...\u001B[0m\n"
     ]
    },
    {
     "name": "stderr",
     "output_type": "stream",
     "text": [
      "Epoch 5 / 100: 100%|██████████| 181/181 [00:05<00:00, 33.22it/s]\n"
     ]
    },
    {
     "name": "stdout",
     "output_type": "stream",
     "text": [
      "2025-03-29 18:44:20.186 | __main__:<module>:69 | \u001B[1mINFO\u001B[0m: \u001B[1mEpoch:  5 cost time: 5.9057    s, train loss: 0.6340111, validate loss: 0.5664999\u001B[0m\n",
      "2025-03-29 18:44:20.186 | tsadlib.utils.traning_stoper:save_checkpoint:104 | \u001B[1mINFO\u001B[0m: \u001B[1mValidation loss decreased (0.568127 --> 0.566500).  Saving model ...\u001B[0m\n"
     ]
    },
    {
     "name": "stderr",
     "output_type": "stream",
     "text": [
      "Epoch 6 / 100: 100%|██████████| 181/181 [00:05<00:00, 33.19it/s]\n"
     ]
    },
    {
     "name": "stdout",
     "output_type": "stream",
     "text": [
      "2025-03-29 18:44:26.118 | __main__:<module>:69 | \u001B[1mINFO\u001B[0m: \u001B[1mEpoch:  6 cost time: 5.9106    s, train loss: 0.6303937, validate loss: 0.5620122\u001B[0m\n",
      "2025-03-29 18:44:26.119 | tsadlib.utils.traning_stoper:save_checkpoint:104 | \u001B[1mINFO\u001B[0m: \u001B[1mValidation loss decreased (0.566500 --> 0.562012).  Saving model ...\u001B[0m\n"
     ]
    },
    {
     "name": "stderr",
     "output_type": "stream",
     "text": [
      "Epoch 7 / 100: 100%|██████████| 181/181 [00:05<00:00, 33.52it/s]\n"
     ]
    },
    {
     "name": "stdout",
     "output_type": "stream",
     "text": [
      "2025-03-29 18:44:32.264 | __main__:<module>:69 | \u001B[1mINFO\u001B[0m: \u001B[1mEpoch:  7 cost time: 6.1253    s, train loss: 0.6263094, validate loss: 0.5586196\u001B[0m\n",
      "2025-03-29 18:44:32.265 | tsadlib.utils.traning_stoper:save_checkpoint:104 | \u001B[1mINFO\u001B[0m: \u001B[1mValidation loss decreased (0.562012 --> 0.558620).  Saving model ...\u001B[0m\n"
     ]
    },
    {
     "name": "stderr",
     "output_type": "stream",
     "text": [
      "Epoch 8 / 100: 100%|██████████| 181/181 [00:05<00:00, 33.39it/s]\n"
     ]
    },
    {
     "name": "stdout",
     "output_type": "stream",
     "text": [
      "2025-03-29 18:44:38.189 | __main__:<module>:69 | \u001B[1mINFO\u001B[0m: \u001B[1mEpoch:  8 cost time: 5.8869    s, train loss: 0.6207029, validate loss: 0.5512602\u001B[0m\n",
      "2025-03-29 18:44:38.189 | tsadlib.utils.traning_stoper:save_checkpoint:104 | \u001B[1mINFO\u001B[0m: \u001B[1mValidation loss decreased (0.558620 --> 0.551260).  Saving model ...\u001B[0m\n"
     ]
    },
    {
     "name": "stderr",
     "output_type": "stream",
     "text": [
      "Epoch 9 / 100: 100%|██████████| 181/181 [00:05<00:00, 33.31it/s]\n"
     ]
    },
    {
     "name": "stdout",
     "output_type": "stream",
     "text": [
      "2025-03-29 18:44:44.148 | __main__:<module>:69 | \u001B[1mINFO\u001B[0m: \u001B[1mEpoch:  9 cost time: 5.9374    s, train loss: 0.6156179, validate loss: 0.5463986\u001B[0m\n",
      "2025-03-29 18:44:44.149 | tsadlib.utils.traning_stoper:save_checkpoint:104 | \u001B[1mINFO\u001B[0m: \u001B[1mValidation loss decreased (0.551260 --> 0.546399).  Saving model ...\u001B[0m\n"
     ]
    },
    {
     "name": "stderr",
     "output_type": "stream",
     "text": [
      "Epoch 10 / 100: 100%|██████████| 181/181 [00:05<00:00, 34.36it/s]\n"
     ]
    },
    {
     "name": "stdout",
     "output_type": "stream",
     "text": [
      "2025-03-29 18:44:49.916 | __main__:<module>:69 | \u001B[1mINFO\u001B[0m: \u001B[1mEpoch: 10 cost time: 5.7408    s, train loss: 0.6099891, validate loss: 0.5409529\u001B[0m\n",
      "2025-03-29 18:44:49.916 | tsadlib.utils.traning_stoper:save_checkpoint:104 | \u001B[1mINFO\u001B[0m: \u001B[1mValidation loss decreased (0.546399 --> 0.540953).  Saving model ...\u001B[0m\n"
     ]
    },
    {
     "name": "stderr",
     "output_type": "stream",
     "text": [
      "Epoch 11 / 100: 100%|██████████| 181/181 [00:05<00:00, 33.95it/s]\n"
     ]
    },
    {
     "name": "stdout",
     "output_type": "stream",
     "text": [
      "2025-03-29 18:44:55.740 | __main__:<module>:69 | \u001B[1mINFO\u001B[0m: \u001B[1mEpoch: 11 cost time: 5.8034    s, train loss: 0.6025184, validate loss: 0.5323112\u001B[0m\n",
      "2025-03-29 18:44:55.741 | tsadlib.utils.traning_stoper:save_checkpoint:104 | \u001B[1mINFO\u001B[0m: \u001B[1mValidation loss decreased (0.540953 --> 0.532311).  Saving model ...\u001B[0m\n"
     ]
    },
    {
     "name": "stderr",
     "output_type": "stream",
     "text": [
      "Epoch 12 / 100: 100%|██████████| 181/181 [00:05<00:00, 33.89it/s]\n"
     ]
    },
    {
     "name": "stdout",
     "output_type": "stream",
     "text": [
      "2025-03-29 18:45:01.569 | __main__:<module>:69 | \u001B[1mINFO\u001B[0m: \u001B[1mEpoch: 12 cost time: 5.8069    s, train loss: 0.5968824, validate loss: 0.5264274\u001B[0m\n",
      "2025-03-29 18:45:01.570 | tsadlib.utils.traning_stoper:save_checkpoint:104 | \u001B[1mINFO\u001B[0m: \u001B[1mValidation loss decreased (0.532311 --> 0.526427).  Saving model ...\u001B[0m\n"
     ]
    },
    {
     "name": "stderr",
     "output_type": "stream",
     "text": [
      "Epoch 13 / 100: 100%|██████████| 181/181 [00:05<00:00, 33.88it/s]\n"
     ]
    },
    {
     "name": "stdout",
     "output_type": "stream",
     "text": [
      "2025-03-29 18:45:07.398 | __main__:<module>:69 | \u001B[1mINFO\u001B[0m: \u001B[1mEpoch: 13 cost time: 5.8081    s, train loss: 0.5893763, validate loss: 0.5230224\u001B[0m\n",
      "2025-03-29 18:45:07.399 | tsadlib.utils.traning_stoper:save_checkpoint:104 | \u001B[1mINFO\u001B[0m: \u001B[1mValidation loss decreased (0.526427 --> 0.523022).  Saving model ...\u001B[0m\n"
     ]
    },
    {
     "name": "stderr",
     "output_type": "stream",
     "text": [
      "Epoch 14 / 100: 100%|██████████| 181/181 [00:05<00:00, 33.79it/s]\n"
     ]
    },
    {
     "name": "stdout",
     "output_type": "stream",
     "text": [
      "2025-03-29 18:45:13.246 | __main__:<module>:69 | \u001B[1mINFO\u001B[0m: \u001B[1mEpoch: 14 cost time: 5.8176    s, train loss: 0.5841471, validate loss: 0.5172625\u001B[0m\n",
      "2025-03-29 18:45:13.246 | tsadlib.utils.traning_stoper:save_checkpoint:104 | \u001B[1mINFO\u001B[0m: \u001B[1mValidation loss decreased (0.523022 --> 0.517262).  Saving model ...\u001B[0m\n"
     ]
    },
    {
     "name": "stderr",
     "output_type": "stream",
     "text": [
      "Epoch 15 / 100: 100%|██████████| 181/181 [00:05<00:00, 33.82it/s]\n"
     ]
    },
    {
     "name": "stdout",
     "output_type": "stream",
     "text": [
      "2025-03-29 18:45:19.079 | __main__:<module>:69 | \u001B[1mINFO\u001B[0m: \u001B[1mEpoch: 15 cost time: 5.8125    s, train loss: 0.5785808, validate loss: 0.5135307\u001B[0m\n",
      "2025-03-29 18:45:19.079 | tsadlib.utils.traning_stoper:save_checkpoint:104 | \u001B[1mINFO\u001B[0m: \u001B[1mValidation loss decreased (0.517262 --> 0.513531).  Saving model ...\u001B[0m\n"
     ]
    },
    {
     "name": "stderr",
     "output_type": "stream",
     "text": [
      "Epoch 16 / 100: 100%|██████████| 181/181 [00:05<00:00, 33.73it/s]\n"
     ]
    },
    {
     "name": "stdout",
     "output_type": "stream",
     "text": [
      "2025-03-29 18:45:24.936 | __main__:<module>:69 | \u001B[1mINFO\u001B[0m: \u001B[1mEpoch: 16 cost time: 5.8369    s, train loss: 0.5727910, validate loss: 0.5075960\u001B[0m\n",
      "2025-03-29 18:45:24.937 | tsadlib.utils.traning_stoper:save_checkpoint:104 | \u001B[1mINFO\u001B[0m: \u001B[1mValidation loss decreased (0.513531 --> 0.507596).  Saving model ...\u001B[0m\n"
     ]
    },
    {
     "name": "stderr",
     "output_type": "stream",
     "text": [
      "Epoch 17 / 100: 100%|██████████| 181/181 [00:05<00:00, 34.26it/s]\n"
     ]
    },
    {
     "name": "stdout",
     "output_type": "stream",
     "text": [
      "2025-03-29 18:45:30.708 | __main__:<module>:69 | \u001B[1mINFO\u001B[0m: \u001B[1mEpoch: 17 cost time: 5.7517    s, train loss: 0.5688964, validate loss: 0.5038830\u001B[0m\n",
      "2025-03-29 18:45:30.709 | tsadlib.utils.traning_stoper:save_checkpoint:104 | \u001B[1mINFO\u001B[0m: \u001B[1mValidation loss decreased (0.507596 --> 0.503883).  Saving model ...\u001B[0m\n"
     ]
    },
    {
     "name": "stderr",
     "output_type": "stream",
     "text": [
      "Epoch 18 / 100: 100%|██████████| 181/181 [00:05<00:00, 33.66it/s]\n"
     ]
    },
    {
     "name": "stdout",
     "output_type": "stream",
     "text": [
      "2025-03-29 18:45:36.570 | __main__:<module>:69 | \u001B[1mINFO\u001B[0m: \u001B[1mEpoch: 18 cost time: 5.8408    s, train loss: 0.5638650, validate loss: 0.5004675\u001B[0m\n",
      "2025-03-29 18:45:36.571 | tsadlib.utils.traning_stoper:save_checkpoint:104 | \u001B[1mINFO\u001B[0m: \u001B[1mValidation loss decreased (0.503883 --> 0.500467).  Saving model ...\u001B[0m\n"
     ]
    },
    {
     "name": "stderr",
     "output_type": "stream",
     "text": [
      "Epoch 19 / 100: 100%|██████████| 181/181 [00:05<00:00, 33.81it/s]\n"
     ]
    },
    {
     "name": "stdout",
     "output_type": "stream",
     "text": [
      "2025-03-29 18:45:42.411 | __main__:<module>:69 | \u001B[1mINFO\u001B[0m: \u001B[1mEpoch: 19 cost time: 5.8204    s, train loss: 0.5587140, validate loss: 0.4945730\u001B[0m\n",
      "2025-03-29 18:45:42.412 | tsadlib.utils.traning_stoper:save_checkpoint:104 | \u001B[1mINFO\u001B[0m: \u001B[1mValidation loss decreased (0.500467 --> 0.494573).  Saving model ...\u001B[0m\n"
     ]
    },
    {
     "name": "stderr",
     "output_type": "stream",
     "text": [
      "Epoch 20 / 100: 100%|██████████| 181/181 [00:05<00:00, 33.51it/s]\n"
     ]
    },
    {
     "name": "stdout",
     "output_type": "stream",
     "text": [
      "2025-03-29 18:45:48.300 | __main__:<module>:69 | \u001B[1mINFO\u001B[0m: \u001B[1mEpoch: 20 cost time: 5.8674    s, train loss: 0.5535429, validate loss: 0.4884152\u001B[0m\n",
      "2025-03-29 18:45:48.300 | tsadlib.utils.traning_stoper:save_checkpoint:104 | \u001B[1mINFO\u001B[0m: \u001B[1mValidation loss decreased (0.494573 --> 0.488415).  Saving model ...\u001B[0m\n"
     ]
    },
    {
     "name": "stderr",
     "output_type": "stream",
     "text": [
      "Epoch 21 / 100: 100%|██████████| 181/181 [00:05<00:00, 33.92it/s]\n"
     ]
    },
    {
     "name": "stdout",
     "output_type": "stream",
     "text": [
      "2025-03-29 18:45:54.137 | __main__:<module>:69 | \u001B[1mINFO\u001B[0m: \u001B[1mEpoch: 21 cost time: 5.8167    s, train loss: 0.5487131, validate loss: 0.4849417\u001B[0m\n",
      "2025-03-29 18:45:54.137 | tsadlib.utils.traning_stoper:save_checkpoint:104 | \u001B[1mINFO\u001B[0m: \u001B[1mValidation loss decreased (0.488415 --> 0.484942).  Saving model ...\u001B[0m\n"
     ]
    },
    {
     "name": "stderr",
     "output_type": "stream",
     "text": [
      "Epoch 22 / 100: 100%|██████████| 181/181 [00:05<00:00, 33.70it/s]\n"
     ]
    },
    {
     "name": "stdout",
     "output_type": "stream",
     "text": [
      "2025-03-29 18:45:59.998 | __main__:<module>:69 | \u001B[1mINFO\u001B[0m: \u001B[1mEpoch: 22 cost time: 5.8393    s, train loss: 0.5452434, validate loss: 0.4809079\u001B[0m\n",
      "2025-03-29 18:45:59.998 | tsadlib.utils.traning_stoper:save_checkpoint:104 | \u001B[1mINFO\u001B[0m: \u001B[1mValidation loss decreased (0.484942 --> 0.480908).  Saving model ...\u001B[0m\n"
     ]
    },
    {
     "name": "stderr",
     "output_type": "stream",
     "text": [
      "Epoch 23 / 100: 100%|██████████| 181/181 [00:05<00:00, 33.54it/s]\n"
     ]
    },
    {
     "name": "stdout",
     "output_type": "stream",
     "text": [
      "2025-03-29 18:46:05.877 | __main__:<module>:69 | \u001B[1mINFO\u001B[0m: \u001B[1mEpoch: 23 cost time: 5.8584    s, train loss: 0.5397660, validate loss: 0.4768426\u001B[0m\n",
      "2025-03-29 18:46:05.878 | tsadlib.utils.traning_stoper:save_checkpoint:104 | \u001B[1mINFO\u001B[0m: \u001B[1mValidation loss decreased (0.480908 --> 0.476843).  Saving model ...\u001B[0m\n"
     ]
    },
    {
     "name": "stderr",
     "output_type": "stream",
     "text": [
      "Epoch 24 / 100: 100%|██████████| 181/181 [00:04<00:00, 43.77it/s]\n"
     ]
    },
    {
     "name": "stdout",
     "output_type": "stream",
     "text": [
      "2025-03-29 18:46:10.489 | __main__:<module>:69 | \u001B[1mINFO\u001B[0m: \u001B[1mEpoch: 24 cost time: 4.5914    s, train loss: 0.5368798, validate loss: 0.4729800\u001B[0m\n",
      "2025-03-29 18:46:10.489 | tsadlib.utils.traning_stoper:save_checkpoint:104 | \u001B[1mINFO\u001B[0m: \u001B[1mValidation loss decreased (0.476843 --> 0.472980).  Saving model ...\u001B[0m\n"
     ]
    },
    {
     "name": "stderr",
     "output_type": "stream",
     "text": [
      "Epoch 25 / 100: 100%|██████████| 181/181 [00:03<00:00, 57.16it/s]\n"
     ]
    },
    {
     "name": "stdout",
     "output_type": "stream",
     "text": [
      "2025-03-29 18:46:14.125 | __main__:<module>:69 | \u001B[1mINFO\u001B[0m: \u001B[1mEpoch: 25 cost time: 3.6164    s, train loss: 0.5336836, validate loss: 0.4713094\u001B[0m\n",
      "2025-03-29 18:46:14.126 | tsadlib.utils.traning_stoper:save_checkpoint:104 | \u001B[1mINFO\u001B[0m: \u001B[1mValidation loss decreased (0.472980 --> 0.471309).  Saving model ...\u001B[0m\n"
     ]
    },
    {
     "name": "stderr",
     "output_type": "stream",
     "text": [
      "Epoch 26 / 100: 100%|██████████| 181/181 [00:03<00:00, 58.32it/s]\n"
     ]
    },
    {
     "name": "stdout",
     "output_type": "stream",
     "text": [
      "2025-03-29 18:46:17.706 | __main__:<module>:69 | \u001B[1mINFO\u001B[0m: \u001B[1mEpoch: 26 cost time: 3.5610    s, train loss: 0.5295578, validate loss: 0.4667730\u001B[0m\n",
      "2025-03-29 18:46:17.707 | tsadlib.utils.traning_stoper:save_checkpoint:104 | \u001B[1mINFO\u001B[0m: \u001B[1mValidation loss decreased (0.471309 --> 0.466773).  Saving model ...\u001B[0m\n"
     ]
    },
    {
     "name": "stderr",
     "output_type": "stream",
     "text": [
      "Epoch 27 / 100: 100%|██████████| 181/181 [00:03<00:00, 58.94it/s]\n"
     ]
    },
    {
     "name": "stdout",
     "output_type": "stream",
     "text": [
      "2025-03-29 18:46:21.257 | __main__:<module>:69 | \u001B[1mINFO\u001B[0m: \u001B[1mEpoch: 27 cost time: 3.5301    s, train loss: 0.5270460, validate loss: 0.4654711\u001B[0m\n",
      "2025-03-29 18:46:21.258 | tsadlib.utils.traning_stoper:save_checkpoint:104 | \u001B[1mINFO\u001B[0m: \u001B[1mValidation loss decreased (0.466773 --> 0.465471).  Saving model ...\u001B[0m\n"
     ]
    },
    {
     "name": "stderr",
     "output_type": "stream",
     "text": [
      "Epoch 28 / 100: 100%|██████████| 181/181 [00:03<00:00, 51.83it/s]\n"
     ]
    },
    {
     "name": "stdout",
     "output_type": "stream",
     "text": [
      "2025-03-29 18:46:25.230 | __main__:<module>:69 | \u001B[1mINFO\u001B[0m: \u001B[1mEpoch: 28 cost time: 3.9514    s, train loss: 0.5243238, validate loss: 0.4639883\u001B[0m\n",
      "2025-03-29 18:46:25.230 | tsadlib.utils.traning_stoper:save_checkpoint:104 | \u001B[1mINFO\u001B[0m: \u001B[1mValidation loss decreased (0.465471 --> 0.463988).  Saving model ...\u001B[0m\n"
     ]
    },
    {
     "name": "stderr",
     "output_type": "stream",
     "text": [
      "Epoch 29 / 100: 100%|██████████| 181/181 [00:05<00:00, 33.06it/s]\n"
     ]
    },
    {
     "name": "stdout",
     "output_type": "stream",
     "text": [
      "2025-03-29 18:46:31.182 | __main__:<module>:69 | \u001B[1mINFO\u001B[0m: \u001B[1mEpoch: 29 cost time: 5.9320    s, train loss: 0.5219938, validate loss: 0.4634893\u001B[0m\n",
      "2025-03-29 18:46:31.183 | tsadlib.utils.traning_stoper:save_checkpoint:104 | \u001B[1mINFO\u001B[0m: \u001B[1mValidation loss decreased (0.463988 --> 0.463489).  Saving model ...\u001B[0m\n"
     ]
    },
    {
     "name": "stderr",
     "output_type": "stream",
     "text": [
      "Epoch 30 / 100: 100%|██████████| 181/181 [00:05<00:00, 33.61it/s]\n"
     ]
    },
    {
     "name": "stdout",
     "output_type": "stream",
     "text": [
      "2025-03-29 18:46:37.056 | __main__:<module>:69 | \u001B[1mINFO\u001B[0m: \u001B[1mEpoch: 30 cost time: 5.8534    s, train loss: 0.5203277, validate loss: 0.4636977\u001B[0m\n",
      "2025-03-29 18:46:37.057 | tsadlib.utils.traning_stoper:__call__:83 | \u001B[33m\u001B[1mWARNING\u001B[0m: \u001B[33m\u001B[1mEarlyStopping counter: 1 out of 10\u001B[0m\n"
     ]
    },
    {
     "name": "stderr",
     "output_type": "stream",
     "text": [
      "Epoch 31 / 100: 100%|██████████| 181/181 [00:05<00:00, 33.77it/s]\n"
     ]
    },
    {
     "name": "stdout",
     "output_type": "stream",
     "text": [
      "2025-03-29 18:46:42.892 | __main__:<module>:69 | \u001B[1mINFO\u001B[0m: \u001B[1mEpoch: 31 cost time: 5.8185    s, train loss: 0.5197209, validate loss: 0.4620592\u001B[0m\n",
      "2025-03-29 18:46:42.892 | tsadlib.utils.traning_stoper:save_checkpoint:104 | \u001B[1mINFO\u001B[0m: \u001B[1mValidation loss decreased (0.463489 --> 0.462059).  Saving model ...\u001B[0m\n"
     ]
    },
    {
     "name": "stderr",
     "output_type": "stream",
     "text": [
      "Epoch 32 / 100: 100%|██████████| 181/181 [00:05<00:00, 33.65it/s]\n"
     ]
    },
    {
     "name": "stdout",
     "output_type": "stream",
     "text": [
      "2025-03-29 18:46:48.775 | __main__:<module>:69 | \u001B[1mINFO\u001B[0m: \u001B[1mEpoch: 32 cost time: 5.8594    s, train loss: 0.5169593, validate loss: 0.4622192\u001B[0m\n",
      "2025-03-29 18:46:48.776 | tsadlib.utils.traning_stoper:__call__:83 | \u001B[33m\u001B[1mWARNING\u001B[0m: \u001B[33m\u001B[1mEarlyStopping counter: 1 out of 10\u001B[0m\n"
     ]
    },
    {
     "name": "stderr",
     "output_type": "stream",
     "text": [
      "Epoch 33 / 100: 100%|██████████| 181/181 [00:05<00:00, 33.47it/s]\n"
     ]
    },
    {
     "name": "stdout",
     "output_type": "stream",
     "text": [
      "2025-03-29 18:46:54.668 | __main__:<module>:69 | \u001B[1mINFO\u001B[0m: \u001B[1mEpoch: 33 cost time: 5.8749    s, train loss: 0.5165840, validate loss: 0.4611097\u001B[0m\n",
      "2025-03-29 18:46:54.669 | tsadlib.utils.traning_stoper:save_checkpoint:104 | \u001B[1mINFO\u001B[0m: \u001B[1mValidation loss decreased (0.462059 --> 0.461110).  Saving model ...\u001B[0m\n"
     ]
    },
    {
     "name": "stderr",
     "output_type": "stream",
     "text": [
      "Epoch 34 / 100: 100%|██████████| 181/181 [00:05<00:00, 31.39it/s]\n"
     ]
    },
    {
     "name": "stdout",
     "output_type": "stream",
     "text": [
      "2025-03-29 18:47:01.091 | __main__:<module>:69 | \u001B[1mINFO\u001B[0m: \u001B[1mEpoch: 34 cost time: 6.3978    s, train loss: 0.5156821, validate loss: 0.4625682\u001B[0m\n",
      "2025-03-29 18:47:01.091 | tsadlib.utils.traning_stoper:__call__:83 | \u001B[33m\u001B[1mWARNING\u001B[0m: \u001B[33m\u001B[1mEarlyStopping counter: 1 out of 10\u001B[0m\n"
     ]
    },
    {
     "name": "stderr",
     "output_type": "stream",
     "text": [
      "Epoch 35 / 100: 100%|██████████| 181/181 [00:05<00:00, 31.89it/s]\n"
     ]
    },
    {
     "name": "stdout",
     "output_type": "stream",
     "text": [
      "2025-03-29 18:47:07.410 | __main__:<module>:69 | \u001B[1mINFO\u001B[0m: \u001B[1mEpoch: 35 cost time: 6.3013    s, train loss: 0.5128978, validate loss: 0.4619629\u001B[0m\n",
      "2025-03-29 18:47:07.411 | tsadlib.utils.traning_stoper:__call__:83 | \u001B[33m\u001B[1mWARNING\u001B[0m: \u001B[33m\u001B[1mEarlyStopping counter: 2 out of 10\u001B[0m\n"
     ]
    },
    {
     "name": "stderr",
     "output_type": "stream",
     "text": [
      "Epoch 36 / 100: 100%|██████████| 181/181 [00:05<00:00, 34.40it/s]\n"
     ]
    },
    {
     "name": "stdout",
     "output_type": "stream",
     "text": [
      "2025-03-29 18:47:13.143 | __main__:<module>:69 | \u001B[1mINFO\u001B[0m: \u001B[1mEpoch: 36 cost time: 5.7140    s, train loss: 0.5131402, validate loss: 0.4625625\u001B[0m\n",
      "2025-03-29 18:47:13.143 | tsadlib.utils.traning_stoper:__call__:83 | \u001B[33m\u001B[1mWARNING\u001B[0m: \u001B[33m\u001B[1mEarlyStopping counter: 3 out of 10\u001B[0m\n"
     ]
    },
    {
     "name": "stderr",
     "output_type": "stream",
     "text": [
      "Epoch 37 / 100: 100%|██████████| 181/181 [00:05<00:00, 33.66it/s]\n"
     ]
    },
    {
     "name": "stdout",
     "output_type": "stream",
     "text": [
      "2025-03-29 18:47:18.995 | __main__:<module>:69 | \u001B[1mINFO\u001B[0m: \u001B[1mEpoch: 37 cost time: 5.8361    s, train loss: 0.5128495, validate loss: 0.4642114\u001B[0m\n",
      "2025-03-29 18:47:18.996 | tsadlib.utils.traning_stoper:__call__:83 | \u001B[33m\u001B[1mWARNING\u001B[0m: \u001B[33m\u001B[1mEarlyStopping counter: 4 out of 10\u001B[0m\n"
     ]
    },
    {
     "name": "stderr",
     "output_type": "stream",
     "text": [
      "Epoch 38 / 100: 100%|██████████| 181/181 [00:05<00:00, 34.42it/s]\n"
     ]
    },
    {
     "name": "stdout",
     "output_type": "stream",
     "text": [
      "2025-03-29 18:47:24.733 | __main__:<module>:69 | \u001B[1mINFO\u001B[0m: \u001B[1mEpoch: 38 cost time: 5.7202    s, train loss: 0.5119709, validate loss: 0.4619248\u001B[0m\n",
      "2025-03-29 18:47:24.734 | tsadlib.utils.traning_stoper:__call__:83 | \u001B[33m\u001B[1mWARNING\u001B[0m: \u001B[33m\u001B[1mEarlyStopping counter: 5 out of 10\u001B[0m\n"
     ]
    },
    {
     "name": "stderr",
     "output_type": "stream",
     "text": [
      "Epoch 39 / 100: 100%|██████████| 181/181 [00:05<00:00, 33.89it/s]\n"
     ]
    },
    {
     "name": "stdout",
     "output_type": "stream",
     "text": [
      "2025-03-29 18:47:30.556 | __main__:<module>:69 | \u001B[1mINFO\u001B[0m: \u001B[1mEpoch: 39 cost time: 5.8059    s, train loss: 0.5119777, validate loss: 0.4644129\u001B[0m\n",
      "2025-03-29 18:47:30.556 | tsadlib.utils.traning_stoper:__call__:83 | \u001B[33m\u001B[1mWARNING\u001B[0m: \u001B[33m\u001B[1mEarlyStopping counter: 6 out of 10\u001B[0m\n"
     ]
    },
    {
     "name": "stderr",
     "output_type": "stream",
     "text": [
      "Epoch 40 / 100: 100%|██████████| 181/181 [00:05<00:00, 33.41it/s]\n"
     ]
    },
    {
     "name": "stdout",
     "output_type": "stream",
     "text": [
      "2025-03-29 18:47:36.458 | __main__:<module>:69 | \u001B[1mINFO\u001B[0m: \u001B[1mEpoch: 40 cost time: 5.8851    s, train loss: 0.5110818, validate loss: 0.4640829\u001B[0m\n",
      "2025-03-29 18:47:36.458 | tsadlib.utils.traning_stoper:__call__:83 | \u001B[33m\u001B[1mWARNING\u001B[0m: \u001B[33m\u001B[1mEarlyStopping counter: 7 out of 10\u001B[0m\n"
     ]
    },
    {
     "name": "stderr",
     "output_type": "stream",
     "text": [
      "Epoch 41 / 100: 100%|██████████| 181/181 [00:05<00:00, 34.12it/s]\n"
     ]
    },
    {
     "name": "stdout",
     "output_type": "stream",
     "text": [
      "2025-03-29 18:47:42.240 | __main__:<module>:69 | \u001B[1mINFO\u001B[0m: \u001B[1mEpoch: 41 cost time: 5.7657    s, train loss: 0.5108113, validate loss: 0.4639043\u001B[0m\n",
      "2025-03-29 18:47:42.241 | tsadlib.utils.traning_stoper:__call__:83 | \u001B[33m\u001B[1mWARNING\u001B[0m: \u001B[33m\u001B[1mEarlyStopping counter: 8 out of 10\u001B[0m\n"
     ]
    },
    {
     "name": "stderr",
     "output_type": "stream",
     "text": [
      "Epoch 42 / 100: 100%|██████████| 181/181 [00:05<00:00, 34.70it/s]\n"
     ]
    },
    {
     "name": "stdout",
     "output_type": "stream",
     "text": [
      "2025-03-29 18:47:47.926 | __main__:<module>:69 | \u001B[1mINFO\u001B[0m: \u001B[1mEpoch: 42 cost time: 5.6695    s, train loss: 0.5097270, validate loss: 0.4633076\u001B[0m\n",
      "2025-03-29 18:47:47.927 | tsadlib.utils.traning_stoper:__call__:83 | \u001B[33m\u001B[1mWARNING\u001B[0m: \u001B[33m\u001B[1mEarlyStopping counter: 9 out of 10\u001B[0m\n"
     ]
    },
    {
     "name": "stderr",
     "output_type": "stream",
     "text": [
      "Epoch 43 / 100: 100%|██████████| 181/181 [00:05<00:00, 33.53it/s]\n"
     ]
    },
    {
     "name": "stdout",
     "output_type": "stream",
     "text": [
      "2025-03-29 18:47:53.833 | __main__:<module>:69 | \u001B[1mINFO\u001B[0m: \u001B[1mEpoch: 43 cost time: 5.8896    s, train loss: 0.5082918, validate loss: 0.4639831\u001B[0m\n",
      "2025-03-29 18:47:53.833 | tsadlib.utils.traning_stoper:__call__:83 | \u001B[33m\u001B[1mWARNING\u001B[0m: \u001B[33m\u001B[1mEarlyStopping counter: 10 out of 10\u001B[0m\n",
      "2025-03-29 18:47:53.834 | __main__:<module>:77 | \u001B[33m\u001B[1mWARNING\u001B[0m: \u001B[33m\u001B[1mEarly stopping triggered\u001B[0m\n"
     ]
    }
   ],
   "source": [
    "model.eval()\n",
    "outputs = []\n",
    "\n",
    "# sample 10% of training data to generate queries\n",
    "with torch.no_grad():\n",
    "    for i, (x_data, _) in enumerate(k_loader):\n",
    "        x_data = x_data.float().to(device)\n",
    "        # Forward pass\n",
    "        outputs.append(model(x_data)['queries'])\n",
    "\n",
    "# Apply K-means clustering algorithm to cluster the queries and designate each centroid as initial value of a memory item.\n",
    "outputs = torch.cat(outputs, dim=0)\n",
    "memory_init_embedding = k_means_clustering(outputs, args.num_memory, args.d_model)\n",
    "\n",
    "model = MEMTO(args, memory_init_embedding.detach()).to(device)\n",
    "\n",
    "optimizer = torch.optim.Adam(model.parameters(), lr=args.learning_rate)\n",
    "early_stopping = OneEarlyStopping(args.patience, CHECKPOINTS, DATASET_TYPE)\n",
    "\n",
    "log.info('The second phase training starts')\n",
    "for epoch in range(args.num_epochs):\n",
    "    model.train()\n",
    "    train_losses = []\n",
    "    reconstruct_losses = []\n",
    "    entropy_losses = []\n",
    "    validate_losses = []\n",
    "    iter_count = 0\n",
    "    epoch_time = time.time()\n",
    "\n",
    "    model.train()\n",
    "    for i, (x_data, _) in enumerate(tqdm(train_loader, desc=f'Epoch {epoch + 1} / {args.num_epochs}')):\n",
    "        iter_count += 1\n",
    "        optimizer.zero_grad()\n",
    "        x_data = x_data.float().to(device)\n",
    "\n",
    "        # Forward pass\n",
    "        output_dict = model(x_data)\n",
    "        output, attention = output_dict['output'], output_dict['attention']\n",
    "        reconstruct_loss = criterion(output, x_data)\n",
    "        entropy_loss = entropy_criterion(attention)\n",
    "        loss = reconstruct_loss + args.hyper_parameter_lambda * entropy_loss\n",
    "\n",
    "        if (i + 1) % 100 == 0:\n",
    "            writer.add_scalar('Loss/Train', loss.item(), epoch * train_steps + i)\n",
    "            writer.add_scalar('Loss/Reconstruct', reconstruct_loss.item(), epoch * train_steps + i)\n",
    "            writer.add_scalar('Loss/Entropy', entropy_loss.item(), epoch * train_steps + i)\n",
    "\n",
    "        # Backward pass\n",
    "        loss.backward()\n",
    "        optimizer.step()\n",
    "        train_losses.append(loss.item())\n",
    "        reconstruct_losses.append(reconstruct_loss.item())\n",
    "        entropy_losses.append(entropy_loss)\n",
    "\n",
    "    model.eval()\n",
    "    with torch.no_grad():\n",
    "        for i, (x_data, _) in enumerate(validate_loader):\n",
    "            x_data = x_data.float().to(device)\n",
    "            # Forward pass\n",
    "            output_dict = model(x_data)\n",
    "            output, attention = output_dict['output'], output_dict['attention']\n",
    "            reconstruct_loss = criterion(output, x_data)\n",
    "            entropy_loss = entropy_criterion(attention)\n",
    "            loss = reconstruct_loss + args.hyper_parameter_lambda * entropy_loss\n",
    "            validate_losses.append(loss.item())\n",
    "\n",
    "    train_avg_loss = np.average(train_losses)\n",
    "    validate_avg_loss = np.average(validate_losses)\n",
    "    log.info(\"Epoch: {:>2} cost time: {:<10.4f}s, train loss: {:<.7f}, validate loss: {:<.7f}\", epoch + 1,\n",
    "             time.time() - epoch_time, train_avg_loss, validate_avg_loss)\n",
    "\n",
    "    writer.add_scalars(\"Loss\", {\"Train\": train_avg_loss, \"Validation\": validate_avg_loss}, epoch)\n",
    "\n",
    "    # Early stopping check\n",
    "    early_stopping(validate_avg_loss, model)\n",
    "    if early_stopping.early_stop:\n",
    "        log.warning(\"Early stopping triggered\")\n",
    "        break"
   ]
  },
  {
   "cell_type": "markdown",
   "id": "1614a7e2577947db",
   "metadata": {},
   "source": [
    "## 3. Model Evaluation"
   ]
  },
  {
   "cell_type": "code",
   "execution_count": null,
   "id": "91a563df8446b78",
   "metadata": {
    "ExecuteTime": {
     "end_time": "2025-03-29T10:48:02.549844Z",
     "start_time": "2025-03-29T10:47:53.939665Z"
    }
   },
   "outputs": [
    {
     "name": "stdout",
     "output_type": "stream",
     "text": [
      "2025-03-29 18:47:53.944 | __main__:<module>:9 | \u001B[1mINFO\u001B[0m: \u001B[1mTest Phase Starts\u001B[0m\n",
      "2025-03-29 18:47:56.727 | __main__:<module>:44 | \u001B[1mINFO\u001B[0m: \u001B[1mThreshold is 0.0150\u001B[0m\n",
      "2025-03-29 18:47:59.508 | __main__:<module>:68 | \u001B[32m\u001B[1mSUCCESS\u001B[0m: \u001B[32m\u001B[1mBefore point-adjustment:\n",
      "Precision: 0.16\n",
      "Recall: 0.0186\n",
      "F1-score: 0.03\u001B[0m\n",
      "2025-03-29 18:48:02.546 | __main__:<module>:75 | \u001B[32m\u001B[1mSUCCESS\u001B[0m: \u001B[32m\u001B[1mAfter point-adjustment:\n",
      "Precision: 0.87\n",
      "Recall: 0.6574\n",
      "F1-score: 0.75\u001B[0m\n"
     ]
    }
   ],
   "source": [
    "train_attention_energy = []\n",
    "validate_attention_energy = []\n",
    "test_attention_energy = []\n",
    "test_labels = []\n",
    "criterion = nn.MSELoss(reduction='none')\n",
    "gathering_loss = GatheringLoss(reduce=False)\n",
    "temperature = args.temperature\n",
    "\n",
    "logger.info('Test Phase Starts')\n",
    "\n",
    "model.eval()\n",
    "# Calculate Anomaly Scores in training set.\n",
    "for i, (x_data, _) in enumerate(train_loader):\n",
    "    x_data = x_data.float().to(device)\n",
    "\n",
    "    output_dict = model(x_data)\n",
    "    output, queries, memory = output_dict['output'], output_dict['queries'], output_dict['memory']\n",
    "\n",
    "    # calculate loss and anomaly scores\n",
    "    reconstruct_loss = torch.mean(criterion(x_data, output), dim=-1)\n",
    "    latent_score = torch.softmax(gathering_loss(queries, memory) / temperature, dim=-1)\n",
    "    loss = latent_score * reconstruct_loss\n",
    "\n",
    "    train_attention_energy.append(loss.detach().cpu().numpy())\n",
    "\n",
    "train_attention_energy = np.concatenate(train_attention_energy, axis=0).reshape(-1)\n",
    "# Calculate Anomaly Scores in validation set.\n",
    "for i, (x_data, _) in enumerate(validate_loader):\n",
    "    x_data = x_data.float().to(device)\n",
    "\n",
    "    output_dict = model(x_data)\n",
    "    output, queries, memory = output_dict['output'], output_dict['queries'], output_dict['memory']\n",
    "\n",
    "    # calculate loss and anomaly scores\n",
    "    reconstruct_loss = torch.mean(criterion(x_data, output), dim=-1)\n",
    "    latent_score = torch.softmax(gathering_loss(queries, memory) / temperature, dim=-1)\n",
    "    loss = latent_score * reconstruct_loss\n",
    "\n",
    "    validate_attention_energy.append(loss.detach().cpu().numpy())\n",
    "\n",
    "validate_attention_energy = np.concatenate(validate_attention_energy, axis=0).reshape(-1)\n",
    "combined_energy = np.concatenate([train_attention_energy, validate_attention_energy], axis=0)\n",
    "threshold = percentile_threshold(combined_energy, 100 - args.anomaly_ratio)\n",
    "logger.info('Threshold is {:.4f}', threshold)\n",
    "\n",
    "# Calculate reconstruction scores for test data\n",
    "for i, (x_data, labels) in enumerate(test_loader):\n",
    "    x_data = x_data.float().to(device)\n",
    "    output_dict = model(x_data)\n",
    "    output, queries, memory = output_dict['output'], output_dict['queries'], output_dict['memory']\n",
    "\n",
    "    reconstruct_loss = torch.mean(criterion(x_data, output), dim=-1)\n",
    "    latent_score = torch.softmax(gathering_loss(queries, memory) / temperature, dim=-1)\n",
    "    loss = latent_score * reconstruct_loss\n",
    "    test_attention_energy.append(loss.detach().cpu().numpy())\n",
    "    test_labels.append(labels)\n",
    "\n",
    "# Combine scores and labels from all batches\n",
    "test_energy = np.concatenate(test_attention_energy, axis=0).reshape(-1)  # [total_samples, window_size]\n",
    "test_labels = np.concatenate(test_labels, axis=0).reshape(-1)  # [total_samples, window_size]\n",
    "\n",
    "# Generate predictions based on threshold\n",
    "pred_labels = (test_energy > threshold).astype(int)\n",
    "gt_labels = test_labels.astype(int)\n",
    "\n",
    "# Calculate evaluation metrics\n",
    "precision, recall, f1, _ = precision_recall_fscore_support(gt_labels, pred_labels, average='binary')\n",
    "logger.success('Before point-adjustment:\\nPrecision: {:.2f}\\nRecall: {:.4f}\\nF1-score: {:.2f}', precision, recall, f1)\n",
    "\n",
    "# Apply point-adjustment strategy\n",
    "gt, pred = point_adjustment(test_labels, pred_labels)\n",
    "\n",
    "# Calculate evaluation metrics\n",
    "precision, recall, f1, _ = precision_recall_fscore_support(gt, pred, average='binary')\n",
    "logger.success('After point-adjustment:\\nPrecision: {:.2f}\\nRecall: {:.4f}\\nF1-score: {:.2f}', precision, recall, f1)"
   ]
  },
  {
   "cell_type": "markdown",
   "id": "40d1d6ef00d31482",
   "metadata": {},
   "source": [
    "## 4. Results Visualization"
   ]
  },
  {
   "cell_type": "code",
   "execution_count": 5,
   "id": "2a7167fed3c66155",
   "metadata": {
    "ExecuteTime": {
     "end_time": "2025-03-29T10:48:07.764563Z",
     "start_time": "2025-03-29T10:48:02.561141Z"
    }
   },
   "outputs": [
    {
     "data": {
      "text/plain": [
       "<matplotlib.legend.Legend at 0x789c35e67a10>"
      ]
     },
     "execution_count": 5,
     "metadata": {},
     "output_type": "execute_result"
    },
    {
     "data": {
      "image/png": "[encoded data removed]",
      "text/plain": [
       "<Figure size 1500x500 with 1 Axes>"
      ]
     },
     "metadata": {},
     "output_type": "display_data"
    }
   ],
   "source": [
    "import matplotlib.pyplot as plt\n",
    "\n",
    "plt.figure(figsize=(15, 5))\n",
    "plt.plot(test_energy)\n",
    "plt.axhline(y=threshold, color='r', linestyle='--', label='threshold')\n",
    "anomaly_indices = np.where(gt == 1)[0]\n",
    "plt.plot(np.arange(len(test_energy))[anomaly_indices], test_energy[anomaly_indices], 'r.', markersize=2,\n",
    "         label='Anomaly')\n",
    "plt.title('MEMTO Model Evaluation')\n",
    "plt.xlabel('TimeStamp')\n",
    "plt.ylabel('Anomaly Scores')\n",
    "plt.legend()"
   ]
  }
 ],
 "metadata": {
  "kernelspec": {
   "display_name": "Python 3",
   "language": "python",
   "name": "python3"
  },
  "language_info": {
   "codemirror_mode": {
    "name": "ipython",
    "version": 2
   },
   "file_extension": ".py",
   "mimetype": "text/x-python",
   "name": "python",
   "nbconvert_exporter": "python",
   "pygments_lexer": "ipython2",
   "version": "2.7.6"
  }
 },
 "nbformat": 4,
 "nbformat_minor": 5
}
