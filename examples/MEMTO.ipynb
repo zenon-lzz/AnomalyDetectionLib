{
 "cells": [
  {
   "metadata": {},
   "cell_type": "markdown",
   "source": [
    "# # MEMTO Tutorial for Anomaly Detection\n",
    "This notebook demonstrates how to use MEMTO for time series anomaly detection\n",
    "\n",
    "## 1. Packages import and prepare arguments"
   ],
   "id": "e9f29d797a0a5d69"
  },
  {
   "metadata": {},
   "cell_type": "code",
   "outputs": [],
   "execution_count": null,
   "source": [
    "import os\n",
    "\n",
    "import torch\n",
    "\n",
    "from tsadlib.configs.constants import PROJECT_ROOT\n",
    "from tsadlib.configs.type import ConfigType\n",
    "from tsadlib.data_provider.data_factory import data_provider\n",
    "\n",
    "# Set up device for computation (CUDA GPU, Apple M1/M2 GPU, or CPU)\n",
    "if torch.cuda.is_available():\n",
    "    device = 'cuda:0'\n",
    "elif torch.backends.mps.is_available():\n",
    "    device = 'mps'\n",
    "else:\n",
    "    device = 'cpu'\n",
    "\n",
    "print(f'use device: {device}')\n",
    "device = torch.device(device)\n",
    "\n",
    "# Define paths for dataset and model checkpoints\n",
    "# DATASET_ROOT = 'E:\\\\liuzhenzhou\\\\datasets'\n",
    "# DATASET_ROOT = '/Users/liuzhenzhou/Documents/backup/datasets/anomaly_detection/npy'\n",
    "DATASET_ROOT = '/home/lzz/Desktop/datasets'\n",
    "DATASET_TYPE = 'MSL'  # Mars Science Laboratory dataset\n",
    "CHECKPOINTS = os.path.join(PROJECT_ROOT, 'checkpoints')\n",
    "MODEL = 'MEMTO'\n",
    "\n",
    "# Configure TimesNet hyperparameters and training settings\n",
    "args = ConfigType(**{\n",
    "    'model': MODEL,\n",
    "    'mode': 'train',\n",
    "    'dataset_root_path': os.path.join(DATASET_ROOT, DATASET_TYPE),\n",
    "    'window_size': 100,\n",
    "    'batch_size': 256,\n",
    "    'd_model': 8,\n",
    "    'dimension_fcl': 16,\n",
    "    'encoder_layers': 3,\n",
    "    'input_channels': 55,\n",
    "    'output_channels': 55,\n",
    "    'num_memory': 10,\n",
    "    'hyper_parameter_lambda': 0.01,\n",
    "    'dropout': 0.1,\n",
    "    'anomaly_ratio': 1,\n",
    "    'num_epochs': 100,\n",
    "    'learning_rate': 1e-4\n",
    "})\n",
    "\n",
    "# Load training and testing data\n",
    "train_data, train_loader = data_provider(args, mode='train')\n",
    "test_data, test_loader = data_provider(args, mode='test')"
   ],
   "id": "7fddbb711f4f208e"
  }
 ],
 "metadata": {
  "kernelspec": {
   "display_name": "Python 3",
   "language": "python",
   "name": "python3"
  },
  "language_info": {
   "codemirror_mode": {
    "name": "ipython",
    "version": 2
   },
   "file_extension": ".py",
   "mimetype": "text/x-python",
   "name": "python",
   "nbconvert_exporter": "python",
   "pygments_lexer": "ipython2",
   "version": "2.7.6"
  }
 },
 "nbformat": 4,
 "nbformat_minor": 5
}
