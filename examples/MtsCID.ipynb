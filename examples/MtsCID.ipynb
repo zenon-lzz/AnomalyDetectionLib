{
 "cells": [
  {
   "cell_type": "markdown",
   "id": "ddfd2aef939a20b9",
   "metadata": {},
   "source": [
    "# MtsCID Tutorial for Anomaly Detection\n",
    "This notebook demonstrates how to use MtsCID for time series anomaly detection\n",
    "\n",
    "## 1. Packages import and prepare arguments"
   ]
  },
  {
   "cell_type": "code",
   "id": "b1a76d27b31d602a",
   "metadata": {
    "ExecuteTime": {
     "end_time": "2025-04-03T13:37:18.671202Z",
     "start_time": "2025-04-03T13:37:16.308748Z"
    }
   },
   "source": [
    "import os\n",
    "import time\n",
    "\n",
    "import numpy as np\n",
    "import torch\n",
    "from sklearn.metrics import precision_recall_fscore_support\n",
    "from torch import nn\n",
    "from torch.utils.tensorboard import SummaryWriter\n",
    "from tqdm import tqdm\n",
    "from tsadlib.metrics.adjustment import point_adjustment\n",
    "\n",
    "from tsadlib.configs.constants import PROJECT_ROOT\n",
    "from tsadlib.configs.log_config import logger\n",
    "from tsadlib.configs.type import ConfigType\n",
    "from tsadlib.data_provider.data_factory import data_provider\n",
    "from tsadlib.metrics.threshold import percentile_threshold\n",
    "from tsadlib.models.MtsCID import MtsCID\n",
    "from tsadlib.utils.loss import EntropyLoss, GatheringLoss, harmonic_loss_compute\n",
    "from tsadlib.utils.lr_decay import PolynomialDecayLR\n",
    "from tsadlib.utils.traning_stoper import OneEarlyStopping\n",
    "\n",
    "# Set up device for computation (CUDA GPU, Apple M1/M2 GPU, or CPU)\n",
    "if torch.cuda.is_available():\n",
    "    device = 'cuda:0'\n",
    "elif torch.backends.mps.is_available():\n",
    "    device = 'mps'\n",
    "else:\n",
    "    device = 'cpu'\n",
    "\n",
    "logger.info(f'use device: {device}')\n",
    "device = torch.device(device)\n",
    "\n",
    "# Define paths for dataset and model checkpoints\n",
    "# DATASET_ROOT = 'E:\\\\liuzhenzhou\\\\datasets'\n",
    "# DATASET_ROOT = '/Users/liuzhenzhou/Documents/backup/datasets/anomaly_detection/npy'\n",
    "DATASET_ROOT = '/home/lzz/Desktop/datasets/anomaly_datasets'\n",
    "DATASET_TYPE = 'MSL'  # Mars Science Laboratory dataset\n",
    "MODEL = 'MtsCID'\n",
    "CHECKPOINTS = os.path.join(PROJECT_ROOT, 'checkpoints', MODEL)\n",
    "\n",
    "writer = SummaryWriter(os.path.join(PROJECT_ROOT, 'runs', MODEL).__str__())\n",
    "\n",
    "# Configure TimesNet hyperparameters and training settings\n",
    "args = ConfigType(**{\n",
    "    'model': MODEL,\n",
    "    'mode': 'train',\n",
    "    'dataset_root_path': os.path.join(DATASET_ROOT, DATASET_TYPE),\n",
    "    'window_size': 100,\n",
    "    'batch_size': 64,\n",
    "    'd_model': 55,\n",
    "    'encoder_layers': 1,\n",
    "    'input_channels': 55,\n",
    "    'output_channels': 55,\n",
    "    'dropout': 0.1,\n",
    "    'hyper_parameter_lambda': 1.0,\n",
    "    'anomaly_ratio': 1\n",
    "})\n",
    "\n",
    "# Load training and testing data\n",
    "train_loader, validate_loader, test_loader = data_provider(args, split_way='train_validate_split')"
   ],
   "outputs": [
    {
     "name": "stdout",
     "output_type": "stream",
     "text": [
      "2025-04-03 21:37:18.525 | __main__:<module>:30 | \u001B[1mINFO\u001B[0m: \u001B[1muse device: cuda:0\u001B[0m\n"
     ]
    }
   ],
   "execution_count": 1
  },
  {
   "cell_type": "markdown",
   "id": "798db0b33c1d7572",
   "metadata": {},
   "source": "## 2. Model definition and training"
  },
  {
   "cell_type": "code",
   "id": "7fcc9b7cc6440c1c",
   "metadata": {
    "ExecuteTime": {
     "end_time": "2025-04-03T13:37:22.981493Z",
     "start_time": "2025-04-03T13:37:18.701112Z"
    }
   },
   "source": [
    "# Initialize model and training components\n",
    "model = MtsCID(args).to(device)\n",
    "optimizer = torch.optim.AdamW(filter(lambda p: p.requires_grad, model.parameters()), lr=args.learning_rate,\n",
    "                              weight_decay=args.weight_decay)\n",
    "scheduler = PolynomialDecayLR(optimizer, warmup_steps=args.warmup_epoch * args.batch_size,\n",
    "                              total_steps=args.num_epochs * args.batch_size, lr=args.learning_rate,\n",
    "                              end_lr=args.end_learning_rate, power=1.0)\n",
    "criterion = nn.MSELoss(reduction='none')\n",
    "entropy_criterion = EntropyLoss()\n",
    "early_stopping = OneEarlyStopping(args.patience, CHECKPOINTS, DATASET_TYPE)\n",
    "train_steps = len(train_loader)\n",
    "logger.info('The training phase starts')\n",
    "\n",
    "for epoch in range(args.num_epochs):\n",
    "    model.train()\n",
    "    train_losses = []\n",
    "    reconstruct_losses = []\n",
    "    entropy_losses = []\n",
    "    validate_losses = []\n",
    "    iter_count = 0\n",
    "    epoch_time = time.time()\n",
    "\n",
    "    model.train()\n",
    "    for i, (x_data, _) in enumerate(tqdm(train_loader, desc=f'Epoch {epoch + 1} / {args.num_epochs}')):\n",
    "        iter_count += 1\n",
    "        optimizer.zero_grad()\n",
    "        x_data = x_data.float().to(device)\n",
    "\n",
    "        # Forward pass\n",
    "        output_dict = model(x_data)\n",
    "        output, attention = output_dict['output'], output_dict['attention']\n",
    "        reconstruct_loss = criterion(output, x_data).mean()\n",
    "        entropy_loss = entropy_criterion(attention)\n",
    "        loss = reconstruct_loss + entropy_loss * args.hyper_parameter_lambda\n",
    "\n",
    "        if (i + 1) % 100 == 0:\n",
    "            writer.add_scalar('Loss/Train', loss.item(), epoch * train_steps + i)\n",
    "            writer.add_scalar('Loss/Reconstruct', reconstruct_loss.item(), epoch * train_steps + i)\n",
    "            writer.add_scalar('Loss/Entropy', entropy_loss.item(), epoch * train_steps + i)\n",
    "\n",
    "        # Backward pass\n",
    "        loss.backward()\n",
    "        optimizer.step()\n",
    "        train_losses.append(loss.item())\n",
    "        reconstruct_losses.append(reconstruct_loss.item())\n",
    "        entropy_losses.append(entropy_loss)\n",
    "\n",
    "    model.eval()\n",
    "    with torch.no_grad():\n",
    "        for i, (x_data, _) in enumerate(validate_loader):\n",
    "            x_data = x_data.float().to(device)\n",
    "            # Forward pass\n",
    "            output_dict = model(x_data)\n",
    "            output, attention = output_dict['output'], output_dict['attention']\n",
    "            reconstruct_loss = criterion(output, x_data).mean()\n",
    "            entropy_loss = entropy_criterion(attention)\n",
    "            loss = reconstruct_loss + args.hyper_parameter_lambda * entropy_loss\n",
    "            validate_losses.append(loss.item())\n",
    "\n",
    "    train_avg_loss = np.average(train_losses)\n",
    "    validate_avg_loss = np.average(validate_losses)\n",
    "    logger.info(\"Epoch: {:>2} cost time: {:<10.4f}s, train loss: {:<.7f}, validate loss: {:<.7f}\", epoch + 1,\n",
    "                time.time() - epoch_time, train_avg_loss, validate_avg_loss)\n",
    "\n",
    "    writer.add_scalars(\"Loss\", {\"Train\": train_avg_loss, \"Validation\": validate_avg_loss}, epoch)\n",
    "\n",
    "    # Early stopping check\n",
    "    early_stopping(validate_avg_loss, model)\n",
    "    if early_stopping.early_stop:\n",
    "        logger.warning(\"Early stopping triggered\")\n",
    "        break"
   ],
   "outputs": [
    {
     "name": "stderr",
     "output_type": "stream",
     "text": [
      "/home/lzz/anaconda3/envs/python313/lib/python3.13/site-packages/torch/optim/lr_scheduler.py:62: UserWarning: The verbose parameter is deprecated. Please use get_last_lr() to access the learning rate.\n",
      "  warnings.warn(\n"
     ]
    },
    {
     "name": "stdout",
     "output_type": "stream",
     "text": [
      "2025-04-03 21:37:19.733 | __main__:<module>:12 | \u001B[1mINFO\u001B[0m: \u001B[1mThe training phase starts\u001B[0m\n"
     ]
    },
    {
     "name": "stderr",
     "output_type": "stream",
     "text": [
      "Epoch 1 / 10: 100%|██████████| 7/7 [00:00<00:00, 11.68it/s]\n"
     ]
    },
    {
     "name": "stdout",
     "output_type": "stream",
     "text": [
      "2025-04-03 21:37:20.369 | __main__:<module>:62 | \u001B[1mINFO\u001B[0m: \u001B[1mEpoch:  1 cost time: 0.6343    s, train loss: 0.8758674, validate loss: 0.8413286\u001B[0m\n",
      "2025-04-03 21:37:20.372 | tsadlib.utils.traning_stoper:save_checkpoint:104 | \u001B[1mINFO\u001B[0m: \u001B[1mValidation loss decreased (inf --> 0.841329).  Saving model ...\u001B[0m\n"
     ]
    },
    {
     "name": "stderr",
     "output_type": "stream",
     "text": [
      "Epoch 2 / 10: 100%|██████████| 7/7 [00:00<00:00, 31.57it/s]\n"
     ]
    },
    {
     "name": "stdout",
     "output_type": "stream",
     "text": [
      "2025-04-03 21:37:20.626 | __main__:<module>:62 | \u001B[1mINFO\u001B[0m: \u001B[1mEpoch:  2 cost time: 0.2463    s, train loss: 0.8256738, validate loss: 0.7142475\u001B[0m\n",
      "2025-04-03 21:37:20.626 | tsadlib.utils.traning_stoper:save_checkpoint:104 | \u001B[1mINFO\u001B[0m: \u001B[1mValidation loss decreased (0.841329 --> 0.714248).  Saving model ...\u001B[0m\n"
     ]
    },
    {
     "name": "stderr",
     "output_type": "stream",
     "text": [
      "Epoch 3 / 10: 100%|██████████| 7/7 [00:00<00:00, 26.39it/s]\n"
     ]
    },
    {
     "name": "stdout",
     "output_type": "stream",
     "text": [
      "2025-04-03 21:37:20.923 | __main__:<module>:62 | \u001B[1mINFO\u001B[0m: \u001B[1mEpoch:  3 cost time: 0.2921    s, train loss: 0.7863341, validate loss: 0.7642674\u001B[0m\n",
      "2025-04-03 21:37:20.924 | tsadlib.utils.traning_stoper:__call__:83 | \u001B[33m\u001B[1mWARNING\u001B[0m: \u001B[33m\u001B[1mEarlyStopping counter: 1 out of 10\u001B[0m\n"
     ]
    },
    {
     "name": "stderr",
     "output_type": "stream",
     "text": [
      "Epoch 4 / 10: 100%|██████████| 7/7 [00:00<00:00, 29.54it/s]\n"
     ]
    },
    {
     "name": "stdout",
     "output_type": "stream",
     "text": [
      "2025-04-03 21:37:21.184 | __main__:<module>:62 | \u001B[1mINFO\u001B[0m: \u001B[1mEpoch:  4 cost time: 0.2587    s, train loss: 0.7775255, validate loss: 0.9215133\u001B[0m\n",
      "2025-04-03 21:37:21.185 | tsadlib.utils.traning_stoper:__call__:83 | \u001B[33m\u001B[1mWARNING\u001B[0m: \u001B[33m\u001B[1mEarlyStopping counter: 2 out of 10\u001B[0m\n"
     ]
    },
    {
     "name": "stderr",
     "output_type": "stream",
     "text": [
      "Epoch 5 / 10: 100%|██████████| 7/7 [00:00<00:00, 30.61it/s]\n"
     ]
    },
    {
     "name": "stdout",
     "output_type": "stream",
     "text": [
      "2025-04-03 21:37:21.438 | __main__:<module>:62 | \u001B[1mINFO\u001B[0m: \u001B[1mEpoch:  5 cost time: 0.2521    s, train loss: 0.7634124, validate loss: 0.7892212\u001B[0m\n",
      "2025-04-03 21:37:21.438 | tsadlib.utils.traning_stoper:__call__:83 | \u001B[33m\u001B[1mWARNING\u001B[0m: \u001B[33m\u001B[1mEarlyStopping counter: 3 out of 10\u001B[0m\n"
     ]
    },
    {
     "name": "stderr",
     "output_type": "stream",
     "text": [
      "Epoch 6 / 10: 100%|██████████| 7/7 [00:00<00:00, 29.01it/s]\n"
     ]
    },
    {
     "name": "stdout",
     "output_type": "stream",
     "text": [
      "2025-04-03 21:37:21.707 | __main__:<module>:62 | \u001B[1mINFO\u001B[0m: \u001B[1mEpoch:  6 cost time: 0.2669    s, train loss: 0.7370694, validate loss: 0.6867799\u001B[0m\n",
      "2025-04-03 21:37:21.707 | tsadlib.utils.traning_stoper:save_checkpoint:104 | \u001B[1mINFO\u001B[0m: \u001B[1mValidation loss decreased (0.714248 --> 0.686780).  Saving model ...\u001B[0m\n"
     ]
    },
    {
     "name": "stderr",
     "output_type": "stream",
     "text": [
      "Epoch 7 / 10: 100%|██████████| 7/7 [00:00<00:00, 23.85it/s]\n"
     ]
    },
    {
     "name": "stdout",
     "output_type": "stream",
     "text": [
      "2025-04-03 21:37:22.035 | __main__:<module>:62 | \u001B[1mINFO\u001B[0m: \u001B[1mEpoch:  7 cost time: 0.3218    s, train loss: 0.7377893, validate loss: 0.7715816\u001B[0m\n",
      "2025-04-03 21:37:22.035 | tsadlib.utils.traning_stoper:__call__:83 | \u001B[33m\u001B[1mWARNING\u001B[0m: \u001B[33m\u001B[1mEarlyStopping counter: 1 out of 10\u001B[0m\n"
     ]
    },
    {
     "name": "stderr",
     "output_type": "stream",
     "text": [
      "Epoch 8 / 10: 100%|██████████| 7/7 [00:00<00:00, 25.60it/s]\n"
     ]
    },
    {
     "name": "stdout",
     "output_type": "stream",
     "text": [
      "2025-04-03 21:37:22.341 | __main__:<module>:62 | \u001B[1mINFO\u001B[0m: \u001B[1mEpoch:  8 cost time: 0.3040    s, train loss: 0.7333426, validate loss: 0.7879850\u001B[0m\n",
      "2025-04-03 21:37:22.341 | tsadlib.utils.traning_stoper:__call__:83 | \u001B[33m\u001B[1mWARNING\u001B[0m: \u001B[33m\u001B[1mEarlyStopping counter: 2 out of 10\u001B[0m\n"
     ]
    },
    {
     "name": "stderr",
     "output_type": "stream",
     "text": [
      "Epoch 9 / 10: 100%|██████████| 7/7 [00:00<00:00, 22.97it/s]\n"
     ]
    },
    {
     "name": "stdout",
     "output_type": "stream",
     "text": [
      "2025-04-03 21:37:22.669 | __main__:<module>:62 | \u001B[1mINFO\u001B[0m: \u001B[1mEpoch:  9 cost time: 0.3260    s, train loss: 0.7137181, validate loss: 0.6744207\u001B[0m\n",
      "2025-04-03 21:37:22.669 | tsadlib.utils.traning_stoper:save_checkpoint:104 | \u001B[1mINFO\u001B[0m: \u001B[1mValidation loss decreased (0.686780 --> 0.674421).  Saving model ...\u001B[0m\n"
     ]
    },
    {
     "name": "stderr",
     "output_type": "stream",
     "text": [
      "Epoch 10 / 10: 100%|██████████| 7/7 [00:00<00:00, 25.57it/s]"
     ]
    },
    {
     "name": "stdout",
     "output_type": "stream",
     "text": [
      "2025-04-03 21:37:22.976 | __main__:<module>:62 | \u001B[1mINFO\u001B[0m: \u001B[1mEpoch: 10 cost time: 0.3021    s, train loss: 0.6858630, validate loss: 0.8090413\u001B[0m\n",
      "2025-04-03 21:37:22.977 | tsadlib.utils.traning_stoper:__call__:83 | \u001B[33m\u001B[1mWARNING\u001B[0m: \u001B[33m\u001B[1mEarlyStopping counter: 1 out of 10\u001B[0m\n"
     ]
    },
    {
     "name": "stderr",
     "output_type": "stream",
     "text": [
      "\n"
     ]
    }
   ],
   "execution_count": 2
  },
  {
   "cell_type": "markdown",
   "id": "db938d0c88248d42",
   "metadata": {},
   "source": [
    "## 3. Model Evaluation"
   ]
  },
  {
   "cell_type": "code",
   "id": "d7306ca7754f4fd2",
   "metadata": {
    "ExecuteTime": {
     "end_time": "2025-04-03T13:37:23.532379Z",
     "start_time": "2025-04-03T13:37:23.239803Z"
    }
   },
   "source": [
    "train_energy = []\n",
    "validate_energy = []\n",
    "test_energy = []\n",
    "test_labels = []\n",
    "criterion = nn.MSELoss(reduction='none')\n",
    "gathering_loss = GatheringLoss(reduce=False)\n",
    "temperature = args.temperature\n",
    "\n",
    "logger.info('Test Phase Starts')\n",
    "\n",
    "model.eval()\n",
    "# Calculate Anomaly Scores in training set.\n",
    "for i, (x_data, _) in enumerate(train_loader):\n",
    "    x_data = x_data.float().to(device)\n",
    "\n",
    "    output_dict = model(x_data)\n",
    "    output, queries, memory = output_dict['output'], output_dict['queries'], output_dict['memory']\n",
    "\n",
    "    # calculate loss and anomaly scores\n",
    "    reconstruct_loss = criterion(x_data, output)\n",
    "    latent_score = torch.softmax(gathering_loss(queries, memory) / temperature, dim=-1)\n",
    "    loss = harmonic_loss_compute(reconstruct_loss, latent_score, 'normal_mean')\n",
    "\n",
    "    train_energy.append(loss.detach().cpu().numpy())\n",
    "\n",
    "train_energy = np.concatenate(train_energy, axis=0).reshape(-1)\n",
    "# Calculate Anomaly Scores in validation set.\n",
    "for i, (x_data, _) in enumerate(validate_loader):\n",
    "    x_data = x_data.float().to(device)\n",
    "\n",
    "    output_dict = model(x_data)\n",
    "    output, queries, memory = output_dict['output'], output_dict['queries'], output_dict['memory']\n",
    "\n",
    "    # calculate loss and anomaly scores\n",
    "    reconstruct_loss = criterion(x_data, output)\n",
    "    latent_score = torch.softmax(gathering_loss(queries, memory) / temperature, dim=-1)\n",
    "    loss = harmonic_loss_compute(reconstruct_loss, latent_score, 'normal_mean')\n",
    "\n",
    "    validate_energy.append(loss.detach().cpu().numpy())\n",
    "\n",
    "validate_energy = np.concatenate(validate_energy, axis=0).reshape(-1)\n",
    "combined_energy = np.concatenate([train_energy, validate_energy], axis=0)\n",
    "threshold = percentile_threshold(combined_energy, 100 - args.anomaly_ratio)\n",
    "logger.info('Threshold is {:.4f}', threshold)\n",
    "\n",
    "# Calculate reconstruction scores for test data\n",
    "for i, (x_data, labels) in enumerate(test_loader):\n",
    "    x_data = x_data.float().to(device)\n",
    "    output_dict = model(x_data)\n",
    "    output, queries, memory = output_dict['output'], output_dict['queries'], output_dict['memory']\n",
    "\n",
    "    reconstruct_loss = criterion(x_data, output)\n",
    "    latent_score = torch.softmax(gathering_loss(queries, memory) / temperature, dim=-1)\n",
    "    loss = harmonic_loss_compute(reconstruct_loss, latent_score, 'normal_mean')\n",
    "    test_energy.append(loss.detach().cpu().numpy())\n",
    "    test_labels.append(labels)\n",
    "\n",
    "# Combine scores and labels from all batches\n",
    "test_energy = np.concatenate(test_energy, axis=0).reshape(-1)  # [total_samples, window_size]\n",
    "test_labels = np.concatenate(test_labels, axis=0).reshape(-1)  # [total_samples, window_size]\n",
    "\n",
    "# Generate predictions based on threshold\n",
    "pred_labels = (test_energy > threshold).astype(int)\n",
    "gt_labels = test_labels.astype(int)\n",
    "\n",
    "# Calculate evaluation metrics\n",
    "precision, recall, f1, _ = precision_recall_fscore_support(gt_labels, pred_labels, average='binary')\n",
    "logger.success('Before point-adjustment:\\nPrecision: {:.2f}\\nRecall: {:.4f}\\nF1-score: {:.2f}', precision, recall,\n",
    "               f1)\n",
    "\n",
    "# Apply point-adjustment strategy\n",
    "gt, pred = point_adjustment(test_labels, pred_labels)\n",
    "\n",
    "# Calculate evaluation metrics\n",
    "precision, recall, f1, _ = precision_recall_fscore_support(gt, pred, average='binary')\n",
    "logger.success('After point-adjustment:\\nPrecision: {:.2f}\\nRecall: {:.4f}\\nF1-score: {:.2f}', precision, recall,\n",
    "               f1)"
   ],
   "outputs": [
    {
     "name": "stdout",
     "output_type": "stream",
     "text": [
      "2025-04-03 21:37:23.245 | __main__:<module>:9 | \u001B[1mINFO\u001B[0m: \u001B[1mTest Phase Starts\u001B[0m\n",
      "2025-04-03 21:37:23.373 | __main__:<module>:44 | \u001B[1mINFO\u001B[0m: \u001B[1mThreshold is 0.0133\u001B[0m\n",
      "2025-04-03 21:37:23.502 | __main__:<module>:68 | \u001B[32m\u001B[1mSUCCESS\u001B[0m: \u001B[32m\u001B[1mBefore point-adjustment:\n",
      "Precision: 0.11\n",
      "Recall: 0.0097\n",
      "F1-score: 0.02\u001B[0m\n",
      "2025-04-03 21:37:23.530 | __main__:<module>:76 | \u001B[32m\u001B[1mSUCCESS\u001B[0m: \u001B[32m\u001B[1mAfter point-adjustment:\n",
      "Precision: 0.92\n",
      "Recall: 0.9603\n",
      "F1-score: 0.94\u001B[0m\n"
     ]
    }
   ],
   "execution_count": 3
  },
  {
   "cell_type": "markdown",
   "id": "6d436005aa297dd8",
   "metadata": {},
   "source": [
    "## 4. Results Visualization"
   ]
  },
  {
   "cell_type": "code",
   "id": "7ddfd519addf24ce",
   "metadata": {
    "ExecuteTime": {
     "end_time": "2025-04-03T13:37:23.802677Z",
     "start_time": "2025-04-03T13:37:23.540298Z"
    }
   },
   "source": [
    "import matplotlib.pyplot as plt\n",
    "\n",
    "plt.figure(figsize=(15, 5))\n",
    "plt.plot(test_energy)\n",
    "plt.axhline(y=threshold, color='r', linestyle='--', label='threshold')\n",
    "anomaly_indices = np.where(gt == 1)[0]\n",
    "plt.plot(np.arange(len(test_energy))[anomaly_indices], test_energy[anomaly_indices], 'r.', markersize=2,\n",
    "         label='Anomaly')\n",
    "plt.title(f'{MODEL} Model Evaluation')\n",
    "plt.xlabel('TimeStamp')\n",
    "plt.ylabel('Anomaly Scores')\n",
    "plt.legend()"
   ],
   "outputs": [
    {
     "data": {
      "text/plain": [
       "<matplotlib.legend.Legend at 0x7aacb8131d30>"
      ]
     },
     "execution_count": 4,
     "metadata": {},
     "output_type": "execute_result"
    },
    {
     "data": {
      "text/plain": [
       "<Figure size 1500x500 with 1 Axes>"
      ],
      "image/png": "[encoded data removed]"
     },
     "metadata": {},
     "output_type": "display_data"
    }
   ],
   "execution_count": 4
  }
 ],
 "metadata": {
  "kernelspec": {
   "display_name": "Python 3 (ipykernel)",
   "language": "python",
   "name": "python3"
  },
  "language_info": {
   "codemirror_mode": {
    "name": "ipython",
    "version": 3
   },
   "file_extension": ".py",
   "mimetype": "text/x-python",
   "name": "python",
   "nbconvert_exporter": "python",
   "pygments_lexer": "ipython3",
   "version": "3.13.2"
  }
 },
 "nbformat": 4,
 "nbformat_minor": 5
}
