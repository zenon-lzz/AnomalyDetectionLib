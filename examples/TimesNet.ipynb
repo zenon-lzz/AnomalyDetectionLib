{
 "cells": [
  {
   "cell_type": "markdown",
   "id": "20a9aff7b290da57",
   "metadata": {},
   "source": [
    "# TimesNet Tutorial for Anomaly Detection\n",
    "This notebook demonstrates how to use TimesNet for time series anomaly detection\n",
    "\n",
    "## 1. Packages import and prepare arguments"
   ]
  },
  {
   "cell_type": "code",
   "id": "4453de545f83ce3a",
   "metadata": {
    "ExecuteTime": {
     "end_time": "2025-03-26T13:22:18.675054Z",
     "start_time": "2025-03-26T13:22:16.237793Z"
    }
   },
   "source": [
    "import os\n",
    "import time\n",
    "\n",
    "import numpy as np\n",
    "import torch.cuda\n",
    "from sklearn.metrics import precision_recall_fscore_support\n",
    "\n",
    "from tsadlib import ConfigType\n",
    "from tsadlib import EarlyStopping\n",
    "from tsadlib import TimesNet\n",
    "from tsadlib import data_provider\n",
    "from tsadlib.configs.constants import PROJECT_ROOT\n",
    "from tsadlib.utils.adjustment import point_adjustment\n",
    "\n",
    "# Set up device for computation (CUDA GPU, Apple M1/M2 GPU, or CPU)\n",
    "if torch.cuda.is_available():\n",
    "    device = 'cuda:0'\n",
    "elif torch.backends.mps.is_available():\n",
    "    device = 'mps'\n",
    "else:\n",
    "    device = 'cpu'\n",
    "\n",
    "print(f'use device: {device}')\n",
    "device = torch.device(device)\n",
    "\n",
    "# Define paths for dataset and model checkpoints\n",
    "# DATASET_ROOT = 'E:\\\\liuzhenzhou\\\\datasets'\n",
    "# DATASET_ROOT = '/Users/liuzhenzhou/Documents/backup/datasets/anomaly_detection/npy'\n",
    "DATASET_ROOT = '/home/lzz/Desktop/datasets'\n",
    "DATASET_TYPE = 'MSL'  # Mars Science Laboratory dataset\n",
    "CHECKPOINTS = os.path.join(PROJECT_ROOT, 'checkpoints')\n",
    "\n",
    "# Configure TimesNet hyperparameters and training settings\n",
    "args = ConfigType(**{\n",
    "    'model': 'TimesNet',\n",
    "    'root_path': os.path.join(DATASET_ROOT, DATASET_TYPE),\n",
    "    'dataset': DATASET_TYPE,\n",
    "    'window_length': 100,  # Length of input sequence\n",
    "    'batch_size': 128,  # Number of samples per batch\n",
    "    'num_workers': 10,  # Number of data loading workers\n",
    "    'top_k': 3,  # Top k time-frequency combinations\n",
    "    'dimension_model': 8,  # Dimension of model\n",
    "    'dimension_fcl': 16,  # Dimension of feed-forward network\n",
    "    'num_kernels': 6,  # Number of inception kernels\n",
    "    'encoder_layers': 1,  # Number of encoder layers\n",
    "    'input_channels': 55,  # Input dimension\n",
    "    'output_channels': 55,  # Output dimension\n",
    "    'dropout': 0.1,  # Dropout rate\n",
    "    'anomaly_ratio': 1,  # Ratio of anomaly samples\n",
    "    'train_epochs': 1,  # Number of training epochs\n",
    "    'learning_rate': 0.0001  # Learning rate for optimization\n",
    "})\n",
    "\n",
    "# Load training and testing data\n",
    "train_data, train_loader = data_provider(args, flag='train')\n",
    "test_data, test_loader = data_provider(args, flag='test')"
   ],
   "outputs": [
    {
     "name": "stdout",
     "output_type": "stream",
     "text": [
      "use device: cuda:0\n",
      "\u001B[32m2025-03-26 21:22:18.584\u001B[0m | \u001B[1mINFO    \u001B[0m | \u001B[36mtsadlib.data_provider.datasets.msl\u001B[0m:\u001B[36m__init__\u001B[0m:\u001B[36m72\u001B[0m - \u001B[1mtrain set's shape: (58317, 55)\u001B[0m\n",
      "\u001B[32m2025-03-26 21:22:18.671\u001B[0m | \u001B[1mINFO    \u001B[0m | \u001B[36mtsadlib.data_provider.datasets.msl\u001B[0m:\u001B[36m__init__\u001B[0m:\u001B[36m74\u001B[0m - \u001B[1mtest set's shape: (73729, 55)\u001B[0m\n"
     ]
    }
   ],
   "execution_count": 1
  },
  {
   "cell_type": "markdown",
   "id": "770403f5731290fa",
   "metadata": {},
   "source": [
    "## 2. Model definition and training"
   ]
  },
  {
   "cell_type": "code",
   "id": "c7409ade5a4beed0",
   "metadata": {
    "ExecuteTime": {
     "end_time": "2025-03-26T13:22:36.001953Z",
     "start_time": "2025-03-26T13:22:18.694047Z"
    }
   },
   "source": [
    "# Initialize model and training components\n",
    "model = TimesNet(args).to(device)\n",
    "optimizer = torch.optim.Adam(model.parameters(), lr=args.learning_rate)\n",
    "criterion = torch.nn.MSELoss()\n",
    "early_stopping = EarlyStopping(patience=args.patience)\n",
    "train_steps = len(train_loader)\n",
    "time_now = time.time()\n",
    "\n",
    "# Training loop\n",
    "for epoch in range(1):\n",
    "    model.train()\n",
    "    train_loss = []\n",
    "    iter_count = 0\n",
    "    epoch_time = time.time()\n",
    "\n",
    "    for i, (batch_x, batch_y) in enumerate(train_loader):\n",
    "        iter_count += 1\n",
    "        optimizer.zero_grad()\n",
    "        batch_x = batch_x.float().to(device)\n",
    "\n",
    "        # Forward pass\n",
    "        outputs = model(batch_x)\n",
    "        loss = criterion(outputs, batch_x)\n",
    "\n",
    "        if (i + 1) % 100 == 0:\n",
    "            print(\"\\titers: {0}, epoch: {1} | loss: {2:.7f}\".format(i + 1, epoch + 1, loss.item()))\n",
    "            speed = (time.time() - time_now) / iter_count\n",
    "            left_time = speed * ((args.train_epochs - epoch) * train_steps - i)\n",
    "            print('\\tspeed: {:.4f}s/iter; left time: {:.4f}s'.format(speed, left_time))\n",
    "            iter_count = 0\n",
    "            time_now = time.time()\n",
    "\n",
    "        # Backward pass\n",
    "        loss.backward()\n",
    "        optimizer.step()\n",
    "        train_loss.append(loss.item())\n",
    "\n",
    "    print(\"Epoch: {} cost time: {}\".format(epoch + 1, time.time() - epoch_time))\n",
    "    train_loss = np.average(train_loss)\n",
    "\n",
    "    # Early stopping check\n",
    "    if early_stopping(np.mean(train_loss), model, os.path.join(PROJECT_ROOT, 'checkpoints'), 'MSL'):\n",
    "        print(\"Early stopping triggered\")\n",
    "        break"
   ],
   "outputs": [
    {
     "name": "stdout",
     "output_type": "stream",
     "text": [
      "\titers: 100, epoch: 1 | loss: 0.7871370\n",
      "\tspeed: 0.0417s/iter; left time: 14.8343s\n",
      "\titers: 200, epoch: 1 | loss: 0.6322964\n",
      "\tspeed: 0.0336s/iter; left time: 8.6066s\n",
      "\titers: 300, epoch: 1 | loss: 0.6820855\n",
      "\tspeed: 0.0334s/iter; left time: 5.2175s\n",
      "\titers: 400, epoch: 1 | loss: 0.5951210\n",
      "\tspeed: 0.0338s/iter; left time: 1.8912s\n",
      "Epoch: 1 cost time: 16.243442058563232\n"
     ]
    }
   ],
   "execution_count": 2
  },
  {
   "cell_type": "markdown",
   "id": "5a8d35536a199bd2",
   "metadata": {},
   "source": [
    "## 3. Model Evaluation"
   ]
  },
  {
   "cell_type": "code",
   "id": "f935c6c468c6dd8a",
   "metadata": {
    "ExecuteTime": {
     "end_time": "2025-03-26T13:22:46.317479Z",
     "start_time": "2025-03-26T13:22:36.147352Z"
    }
   },
   "source": [
    "from torch import nn\n",
    "\n",
    "# Set model to evaluation mode and initialize score containers\n",
    "model.eval()\n",
    "train_scores = []\n",
    "test_scores = []\n",
    "test_labels = []\n",
    "anomaly_criterion = nn.MSELoss(reduction='none')\n",
    "\n",
    "# Calculate reconstruction scores for training data\n",
    "with torch.no_grad():\n",
    "    for i, (batch_x, batch_y) in enumerate(train_loader):\n",
    "        batch_x = batch_x.float().to(device)\n",
    "        # reconstruction\n",
    "        outputs = model(batch_x)\n",
    "        # criterion\n",
    "        score = torch.mean(anomaly_criterion(batch_x, outputs), dim=-1)\n",
    "        score = score.detach().cpu().numpy()\n",
    "        train_scores.append(score)\n",
    "\n",
    "train_scores = np.concatenate(train_scores, axis=0).reshape(-1)\n",
    "\n",
    "# Calculate reconstruction scores for test data\n",
    "for batch_x, batch_y in test_loader:\n",
    "    batch_x = batch_x.float().to(device)\n",
    "    outputs = model(batch_x)\n",
    "\n",
    "    # Calculate reconstruction error as anomaly score\n",
    "    score = torch.mean(anomaly_criterion(outputs, batch_x), dim=-1)\n",
    "    test_scores.append(score.detach().cpu().numpy())\n",
    "    test_labels.append(batch_y)\n",
    "\n",
    "# Combine scores and labels from all batches\n",
    "test_scores = np.concatenate(test_scores, axis=0).reshape(-1)  # [total_samples, window_length]\n",
    "test_labels = np.concatenate(test_labels, axis=0).reshape(-1)  # [total_samples, window_length]\n",
    "\n",
    "# Calculate threshold using combined scores from both training and test sets\n",
    "combined_scores = np.concatenate([train_scores, test_scores], axis=0)\n",
    "from tsadlib import threshold\n",
    "\n",
    "final_threshold = threshold.percentile_threshold(combined_scores, 99)\n",
    "\n",
    "# Generate predictions based on threshold\n",
    "pred_labels = (test_scores > final_threshold).astype(int)\n",
    "\n",
    "gt, pred = point_adjustment(test_labels, pred_labels)\n",
    "\n",
    "# Calculate evaluation metrics\n",
    "precision, recall, f1, _ = precision_recall_fscore_support(gt, pred, average='binary')\n",
    "\n",
    "print(f\"Precision: {precision:.4f}\")\n",
    "print(f\"Recall: {recall:.4f}\")\n",
    "print(f\"F1-score: {f1:.4f}\")"
   ],
   "outputs": [
    {
     "name": "stdout",
     "output_type": "stream",
     "text": [
      "Precision: 0.8921\n",
      "Recall: 0.7405\n",
      "F1-score: 0.8092\n"
     ]
    }
   ],
   "execution_count": 3
  },
  {
   "cell_type": "markdown",
   "id": "a62e75269ca96801",
   "metadata": {},
   "source": [
    "## 4. 可视化结果"
   ]
  },
  {
   "cell_type": "code",
   "id": "de62bb4f4abdad78",
   "metadata": {
    "ExecuteTime": {
     "end_time": "2025-03-26T13:22:50.746085Z",
     "start_time": "2025-03-26T13:22:46.376834Z"
    }
   },
   "source": [
    "import matplotlib.pyplot as plt\n",
    "\n",
    "plt.figure(figsize=(15, 5))\n",
    "plt.plot(test_scores)\n",
    "plt.axhline(y=final_threshold, color='r', linestyle='--', label='threshold')\n",
    "plt.title('TimesNet Model Evaluation')\n",
    "plt.xlabel('TimeStamp')\n",
    "plt.ylabel('Anomaly Scores')\n",
    "plt.legend()"
   ],
   "outputs": [
    {
     "data": {
      "text/plain": [
       "<matplotlib.legend.Legend at 0x7097e49d3620>"
      ]
     },
     "execution_count": 4,
     "metadata": {},
     "output_type": "execute_result"
    },
    {
     "data": {
      "text/plain": [
       "<Figure size 1500x500 with 1 Axes>"
      ],
      "image/png": "[encoded data removed]"
     },
     "metadata": {},
     "output_type": "display_data"
    }
   ],
   "execution_count": 4
  }
 ],
 "metadata": {
  "kernelspec": {
   "display_name": "Python 3 (ipykernel)",
   "language": "python",
   "name": "python3"
  },
  "language_info": {
   "codemirror_mode": {
    "name": "ipython",
    "version": 3
   },
   "file_extension": ".py",
   "mimetype": "text/x-python",
   "name": "python",
   "nbconvert_exporter": "python",
   "pygments_lexer": "ipython3",
   "version": "3.12.5"
  }
 },
 "nbformat": 4,
 "nbformat_minor": 5
}
