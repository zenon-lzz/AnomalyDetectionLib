{
 "cells": [
  {
   "cell_type": "markdown",
   "id": "20a9aff7b290da57",
   "metadata": {},
   "source": [
    "# TimesNet Tutorial for Anomaly Detection\n",
    "This notebook demonstrates how to use TimesNet for time series anomaly detection\n",
    "\n",
    "## 1. Packages import and prepare arguments"
   ]
  },
  {
   "cell_type": "code",
   "execution_count": null,
   "id": "a02eb82908075fd1",
   "metadata": {},
   "outputs": [],
   "source": [
    "import os\n",
    "import time\n",
    "\n",
    "import numpy as np\n",
    "import torch.cuda\n",
    "from sklearn.metrics import precision_recall_fscore_support\n",
    "from torch.utils.tensorboard import SummaryWriter\n",
    "from tqdm import tqdm\n",
    "from tsadlib.metrics.adjustment import point_adjustment\n",
    "\n",
    "from tsadlib import ConfigType\n",
    "from tsadlib import OneEarlyStopping\n",
    "from tsadlib import TimesNet\n",
    "from tsadlib import data_provider\n",
    "from tsadlib.configs.constants import LIBRARY_ROOT\n",
    "from tsadlib.configs.log_config import log\n",
    "\n",
    "# Set up device for computation (CUDA GPU, Apple M1/M2 GPU, or CPU)\n",
    "if torch.cuda.is_available():\n",
    "    device = 'cuda:0'\n",
    "elif torch.backends.mps.is_available():\n",
    "    device = 'mps'\n",
    "else:\n",
    "    device = 'cpu'\n",
    "\n",
    "log.info(f'use device: {device}')\n",
    "device = torch.device(device)\n",
    "\n",
    "# Define paths for dataset and model checkpoints\n",
    "# DATASET_ROOT = 'E:\\\\liuzhenzhou\\\\datasets'\n",
    "# DATASET_ROOT = '/Users/liuzhenzhou/Documents/backup/datasets/anomaly_detection/npy'\n",
    "DATASET_ROOT = '/home/lzz/Desktop/datasets'\n",
    "DATASET_TYPE = 'MSL'  # Mars Science Laboratory dataset\n",
    "MODEL = 'TimesNet'\n",
    "CHECKPOINTS = os.path.join(LIBRARY_ROOT, 'checkpoints', MODEL)\n",
    "\n",
    "writer = SummaryWriter(os.path.join(LIBRARY_ROOT, 'runs', MODEL).__str__())\n",
    "\n",
    "# Configure TimesNet hyperparameters and training settings\n",
    "args = ConfigType(**{\n",
    "    'model': MODEL,\n",
    "    'dataset_root_path': os.path.join(DATASET_ROOT, DATASET_TYPE),\n",
    "    'dataset': DATASET_TYPE,\n",
    "    'window_size': 100,  # Length of input sequence\n",
    "    'batch_size': 128,  # Number of samples per batch\n",
    "    'num_workers': 10,  # Number of data loading workers\n",
    "    'top_k': 3,  # Top k time-frequency combinations\n",
    "    'd_model': 8,  # Dimension of model\n",
    "    'dimension_fcl': 16,  # Dimension of feed-forward network\n",
    "    'num_kernels': 6,  # Number of inception kernels\n",
    "    'encoder_layers': 1,  # Number of encoder layers\n",
    "    'input_channels': 55,  # Input dimension\n",
    "    'output_channels': 55,  # Output dimension\n",
    "    'dropout': 0.1,  # Dropout rate\n",
    "    'anomaly_ratio': 1,  # Ratio of anomaly samples\n",
    "    'num_epochs': 10,  # Number of training epochs\n",
    "    'learning_rate': 0.0001  # Learning rate for optimization\n",
    "})\n",
    "\n",
    "# Load training and testing data\n",
    "train_loader, test_loader = data_provider(args)"
   ]
  },
  {
   "cell_type": "markdown",
   "id": "770403f5731290fa",
   "metadata": {},
   "source": [
    "## 2. Model definition and training"
   ]
  },
  {
   "cell_type": "code",
   "execution_count": null,
   "id": "c7409ade5a4beed0",
   "metadata": {
    "ExecuteTime": {
     "end_time": "2025-03-28T13:36:32.976302Z",
     "start_time": "2025-03-28T13:33:18.856985Z"
    }
   },
   "outputs": [
    {
     "name": "stderr",
     "output_type": "stream",
     "text": [
      "Epoch 1 / 10:  23%|██▎       | 103/454 [00:04<00:12, 28.46it/s]"
     ]
    },
    {
     "name": "stdout",
     "output_type": "stream",
     "text": [
      "\u001B[32m2025-03-28 21:33:24.152\u001B[0m | \u001B[1mINFO    \u001B[0m | \u001B[36m__main__\u001B[0m:\u001B[36m<module>\u001B[0m:\u001B[36m30\u001B[0m - \u001B[1miters:  100, epoch:  1 | loss: 0.4592844\u001B[0m\n",
      "\u001B[32m2025-03-28 21:33:24.153\u001B[0m | \u001B[1mINFO    \u001B[0m | \u001B[36m__main__\u001B[0m:\u001B[36m<module>\u001B[0m:\u001B[36m33\u001B[0m - \u001B[1mspeed:     0.0434s/iter; left time: 192.6397  s\u001B[0m\n"
     ]
    },
    {
     "name": "stderr",
     "output_type": "stream",
     "text": [
      "Epoch 1 / 10:  45%|████▌     | 205/454 [00:08<00:08, 28.45it/s]"
     ]
    },
    {
     "name": "stdout",
     "output_type": "stream",
     "text": [
      "\u001B[32m2025-03-28 21:33:27.711\u001B[0m | \u001B[1mINFO    \u001B[0m | \u001B[36m__main__\u001B[0m:\u001B[36m<module>\u001B[0m:\u001B[36m30\u001B[0m - \u001B[1miters:  200, epoch:  1 | loss: 0.5811214\u001B[0m\n",
      "\u001B[32m2025-03-28 21:33:27.711\u001B[0m | \u001B[1mINFO    \u001B[0m | \u001B[36m__main__\u001B[0m:\u001B[36m<module>\u001B[0m:\u001B[36m33\u001B[0m - \u001B[1mspeed:     0.0356s/iter; left time: 154.4492  s\u001B[0m\n"
     ]
    },
    {
     "name": "stderr",
     "output_type": "stream",
     "text": [
      "Epoch 1 / 10:  67%|██████▋   | 304/454 [00:11<00:05, 28.30it/s]"
     ]
    },
    {
     "name": "stdout",
     "output_type": "stream",
     "text": [
      "\u001B[32m2025-03-28 21:33:31.239\u001B[0m | \u001B[1mINFO    \u001B[0m | \u001B[36m__main__\u001B[0m:\u001B[36m<module>\u001B[0m:\u001B[36m30\u001B[0m - \u001B[1miters:  300, epoch:  1 | loss: 0.5409122\u001B[0m\n",
      "\u001B[32m2025-03-28 21:33:31.240\u001B[0m | \u001B[1mINFO    \u001B[0m | \u001B[36m__main__\u001B[0m:\u001B[36m<module>\u001B[0m:\u001B[36m33\u001B[0m - \u001B[1mspeed:     0.0353s/iter; left time: 149.6472  s\u001B[0m\n"
     ]
    },
    {
     "name": "stderr",
     "output_type": "stream",
     "text": [
      "Epoch 1 / 10:  89%|████████▉ | 404/454 [00:15<00:01, 28.13it/s]"
     ]
    },
    {
     "name": "stdout",
     "output_type": "stream",
     "text": [
      "\u001B[32m2025-03-28 21:33:34.754\u001B[0m | \u001B[1mINFO    \u001B[0m | \u001B[36m__main__\u001B[0m:\u001B[36m<module>\u001B[0m:\u001B[36m30\u001B[0m - \u001B[1miters:  400, epoch:  1 | loss: 0.5548776\u001B[0m\n",
      "\u001B[32m2025-03-28 21:33:34.755\u001B[0m | \u001B[1mINFO    \u001B[0m | \u001B[36m__main__\u001B[0m:\u001B[36m<module>\u001B[0m:\u001B[36m33\u001B[0m - \u001B[1mspeed:     0.0351s/iter; left time: 145.5391  s\u001B[0m\n"
     ]
    },
    {
     "name": "stderr",
     "output_type": "stream",
     "text": [
      "Epoch 1 / 10: 100%|██████████| 454/454 [00:16<00:00, 26.81it/s]\n"
     ]
    },
    {
     "name": "stdout",
     "output_type": "stream",
     "text": [
      "\u001B[32m2025-03-28 21:33:40.510\u001B[0m | \u001B[1mINFO    \u001B[0m | \u001B[36m__main__\u001B[0m:\u001B[36m<module>\u001B[0m:\u001B[36m52\u001B[0m - \u001B[1mEpoch:  1 cost time: 20.6943   s, train loss: 0.6248776, test loss: 1.5293302\u001B[0m\n",
      "\u001B[32m2025-03-28 21:33:40.513\u001B[0m | \u001B[1mINFO    \u001B[0m | \u001B[36mtsadlib.utils.traning_stoper\u001B[0m:\u001B[36msave_checkpoint\u001B[0m:\u001B[36m104\u001B[0m - \u001B[1mValidation loss decreased (inf --> 0.624878).  Saving model ...\u001B[0m\n"
     ]
    },
    {
     "name": "stderr",
     "output_type": "stream",
     "text": [
      "Epoch 2 / 10:  23%|██▎       | 103/454 [00:03<00:11, 30.00it/s]"
     ]
    },
    {
     "name": "stdout",
     "output_type": "stream",
     "text": [
      "\u001B[32m2025-03-28 21:33:44.365\u001B[0m | \u001B[1mINFO    \u001B[0m | \u001B[36m__main__\u001B[0m:\u001B[36m<module>\u001B[0m:\u001B[36m30\u001B[0m - \u001B[1miters:  100, epoch:  2 | loss: 0.8272741\u001B[0m\n",
      "\u001B[32m2025-03-28 21:33:44.366\u001B[0m | \u001B[1mINFO    \u001B[0m | \u001B[36m__main__\u001B[0m:\u001B[36m<module>\u001B[0m:\u001B[36m33\u001B[0m - \u001B[1mspeed:     0.0961s/iter; left time: 383.1684  s\u001B[0m\n"
     ]
    },
    {
     "name": "stderr",
     "output_type": "stream",
     "text": [
      "Epoch 2 / 10:  45%|████▍     | 203/454 [00:07<00:08, 29.06it/s]"
     ]
    },
    {
     "name": "stdout",
     "output_type": "stream",
     "text": [
      "\u001B[32m2025-03-28 21:33:47.914\u001B[0m | \u001B[1mINFO    \u001B[0m | \u001B[36m__main__\u001B[0m:\u001B[36m<module>\u001B[0m:\u001B[36m30\u001B[0m - \u001B[1miters:  200, epoch:  2 | loss: 0.6234098\u001B[0m\n",
      "\u001B[32m2025-03-28 21:33:47.915\u001B[0m | \u001B[1mINFO    \u001B[0m | \u001B[36m__main__\u001B[0m:\u001B[36m<module>\u001B[0m:\u001B[36m33\u001B[0m - \u001B[1mspeed:     0.0355s/iter; left time: 137.9704  s\u001B[0m\n"
     ]
    },
    {
     "name": "stderr",
     "output_type": "stream",
     "text": [
      "Epoch 2 / 10:  68%|██████▊   | 309/454 [00:10<00:02, 64.70it/s]"
     ]
    },
    {
     "name": "stdout",
     "output_type": "stream",
     "text": [
      "\u001B[32m2025-03-28 21:33:50.903\u001B[0m | \u001B[1mINFO    \u001B[0m | \u001B[36m__main__\u001B[0m:\u001B[36m<module>\u001B[0m:\u001B[36m30\u001B[0m - \u001B[1miters:  300, epoch:  2 | loss: 0.7205810\u001B[0m\n",
      "\u001B[32m2025-03-28 21:33:50.904\u001B[0m | \u001B[1mINFO    \u001B[0m | \u001B[36m__main__\u001B[0m:\u001B[36m<module>\u001B[0m:\u001B[36m33\u001B[0m - \u001B[1mspeed:     0.0299s/iter; left time: 113.1768  s\u001B[0m\n"
     ]
    },
    {
     "name": "stderr",
     "output_type": "stream",
     "text": [
      "Epoch 2 / 10:  89%|████████▉ | 403/454 [00:13<00:01, 27.74it/s]"
     ]
    },
    {
     "name": "stdout",
     "output_type": "stream",
     "text": [
      "\u001B[32m2025-03-28 21:33:53.834\u001B[0m | \u001B[1mINFO    \u001B[0m | \u001B[36m__main__\u001B[0m:\u001B[36m<module>\u001B[0m:\u001B[36m30\u001B[0m - \u001B[1miters:  400, epoch:  2 | loss: 0.6400773\u001B[0m\n",
      "\u001B[32m2025-03-28 21:33:53.835\u001B[0m | \u001B[1mINFO    \u001B[0m | \u001B[36m__main__\u001B[0m:\u001B[36m<module>\u001B[0m:\u001B[36m33\u001B[0m - \u001B[1mspeed:     0.0293s/iter; left time: 108.0613  s\u001B[0m\n"
     ]
    },
    {
     "name": "stderr",
     "output_type": "stream",
     "text": [
      "Epoch 2 / 10: 100%|██████████| 454/454 [00:15<00:00, 29.67it/s]\n"
     ]
    },
    {
     "name": "stdout",
     "output_type": "stream",
     "text": [
      "\u001B[32m2025-03-28 21:33:59.837\u001B[0m | \u001B[1mINFO    \u001B[0m | \u001B[36m__main__\u001B[0m:\u001B[36m<module>\u001B[0m:\u001B[36m52\u001B[0m - \u001B[1mEpoch:  2 cost time: 19.3170   s, train loss: 0.5365443, test loss: 1.4204968\u001B[0m\n",
      "\u001B[32m2025-03-28 21:33:59.839\u001B[0m | \u001B[1mINFO    \u001B[0m | \u001B[36mtsadlib.utils.traning_stoper\u001B[0m:\u001B[36msave_checkpoint\u001B[0m:\u001B[36m104\u001B[0m - \u001B[1mValidation loss decreased (0.624878 --> 0.536544).  Saving model ...\u001B[0m\n"
     ]
    },
    {
     "name": "stderr",
     "output_type": "stream",
     "text": [
      "Epoch 3 / 10:  23%|██▎       | 104/454 [00:03<00:11, 29.21it/s]"
     ]
    },
    {
     "name": "stdout",
     "output_type": "stream",
     "text": [
      "\u001B[32m2025-03-28 21:34:03.654\u001B[0m | \u001B[1mINFO    \u001B[0m | \u001B[36m__main__\u001B[0m:\u001B[36m<module>\u001B[0m:\u001B[36m30\u001B[0m - \u001B[1miters:  100, epoch:  3 | loss: 0.3727795\u001B[0m\n",
      "\u001B[32m2025-03-28 21:34:03.655\u001B[0m | \u001B[1mINFO    \u001B[0m | \u001B[36m__main__\u001B[0m:\u001B[36m<module>\u001B[0m:\u001B[36m33\u001B[0m - \u001B[1mspeed:     0.0982s/iter; left time: 346.9475  s\u001B[0m\n"
     ]
    },
    {
     "name": "stderr",
     "output_type": "stream",
     "text": [
      "Epoch 3 / 10:  45%|████▍     | 203/454 [00:07<00:08, 28.37it/s]"
     ]
    },
    {
     "name": "stdout",
     "output_type": "stream",
     "text": [
      "\u001B[32m2025-03-28 21:34:07.093\u001B[0m | \u001B[1mINFO    \u001B[0m | \u001B[36m__main__\u001B[0m:\u001B[36m<module>\u001B[0m:\u001B[36m30\u001B[0m - \u001B[1miters:  200, epoch:  3 | loss: 0.4215676\u001B[0m\n",
      "\u001B[32m2025-03-28 21:34:07.094\u001B[0m | \u001B[1mINFO    \u001B[0m | \u001B[36m__main__\u001B[0m:\u001B[36m<module>\u001B[0m:\u001B[36m33\u001B[0m - \u001B[1mspeed:     0.0344s/iter; left time: 118.0288  s\u001B[0m\n"
     ]
    },
    {
     "name": "stderr",
     "output_type": "stream",
     "text": [
      "Epoch 3 / 10:  67%|██████▋   | 305/454 [00:10<00:05, 28.07it/s]"
     ]
    },
    {
     "name": "stdout",
     "output_type": "stream",
     "text": [
      "\u001B[32m2025-03-28 21:34:10.586\u001B[0m | \u001B[1mINFO    \u001B[0m | \u001B[36m__main__\u001B[0m:\u001B[36m<module>\u001B[0m:\u001B[36m30\u001B[0m - \u001B[1miters:  300, epoch:  3 | loss: 0.5089931\u001B[0m\n",
      "\u001B[32m2025-03-28 21:34:10.587\u001B[0m | \u001B[1mINFO    \u001B[0m | \u001B[36m__main__\u001B[0m:\u001B[36m<module>\u001B[0m:\u001B[36m33\u001B[0m - \u001B[1mspeed:     0.0349s/iter; left time: 116.4327  s\u001B[0m\n"
     ]
    },
    {
     "name": "stderr",
     "output_type": "stream",
     "text": [
      "Epoch 3 / 10:  89%|████████▉ | 405/454 [00:14<00:01, 28.28it/s]"
     ]
    },
    {
     "name": "stdout",
     "output_type": "stream",
     "text": [
      "\u001B[32m2025-03-28 21:34:14.141\u001B[0m | \u001B[1mINFO    \u001B[0m | \u001B[36m__main__\u001B[0m:\u001B[36m<module>\u001B[0m:\u001B[36m30\u001B[0m - \u001B[1miters:  400, epoch:  3 | loss: 0.6437182\u001B[0m\n",
      "\u001B[32m2025-03-28 21:34:14.141\u001B[0m | \u001B[1mINFO    \u001B[0m | \u001B[36m__main__\u001B[0m:\u001B[36m<module>\u001B[0m:\u001B[36m33\u001B[0m - \u001B[1mspeed:     0.0355s/iter; left time: 114.9029  s\u001B[0m\n"
     ]
    },
    {
     "name": "stderr",
     "output_type": "stream",
     "text": [
      "Epoch 3 / 10: 100%|██████████| 454/454 [00:16<00:00, 27.85it/s]\n"
     ]
    },
    {
     "name": "stdout",
     "output_type": "stream",
     "text": [
      "\u001B[32m2025-03-28 21:34:19.964\u001B[0m | \u001B[1mINFO    \u001B[0m | \u001B[36m__main__\u001B[0m:\u001B[36m<module>\u001B[0m:\u001B[36m52\u001B[0m - \u001B[1mEpoch:  3 cost time: 20.1153   s, train loss: 0.4682137, test loss: 1.3101553\u001B[0m\n",
      "\u001B[32m2025-03-28 21:34:19.966\u001B[0m | \u001B[1mINFO    \u001B[0m | \u001B[36mtsadlib.utils.traning_stoper\u001B[0m:\u001B[36msave_checkpoint\u001B[0m:\u001B[36m104\u001B[0m - \u001B[1mValidation loss decreased (0.536544 --> 0.468214).  Saving model ...\u001B[0m\n"
     ]
    },
    {
     "name": "stderr",
     "output_type": "stream",
     "text": [
      "Epoch 4 / 10:  23%|██▎       | 103/454 [00:03<00:12, 28.64it/s]"
     ]
    },
    {
     "name": "stdout",
     "output_type": "stream",
     "text": [
      "\u001B[32m2025-03-28 21:34:23.730\u001B[0m | \u001B[1mINFO    \u001B[0m | \u001B[36m__main__\u001B[0m:\u001B[36m<module>\u001B[0m:\u001B[36m30\u001B[0m - \u001B[1miters:  100, epoch:  4 | loss: 0.4221799\u001B[0m\n",
      "\u001B[32m2025-03-28 21:34:23.731\u001B[0m | \u001B[1mINFO    \u001B[0m | \u001B[36m__main__\u001B[0m:\u001B[36m<module>\u001B[0m:\u001B[36m33\u001B[0m - \u001B[1mspeed:     0.0959s/iter; left time: 295.2713  s\u001B[0m\n"
     ]
    },
    {
     "name": "stderr",
     "output_type": "stream",
     "text": [
      "Epoch 4 / 10:  45%|████▍     | 203/454 [00:07<00:08, 28.43it/s]"
     ]
    },
    {
     "name": "stdout",
     "output_type": "stream",
     "text": [
      "\u001B[32m2025-03-28 21:34:27.229\u001B[0m | \u001B[1mINFO    \u001B[0m | \u001B[36m__main__\u001B[0m:\u001B[36m<module>\u001B[0m:\u001B[36m30\u001B[0m - \u001B[1miters:  200, epoch:  4 | loss: 0.4442100\u001B[0m\n",
      "\u001B[32m2025-03-28 21:34:27.229\u001B[0m | \u001B[1mINFO    \u001B[0m | \u001B[36m__main__\u001B[0m:\u001B[36m<module>\u001B[0m:\u001B[36m33\u001B[0m - \u001B[1mspeed:     0.0350s/iter; left time: 104.2014  s\u001B[0m\n"
     ]
    },
    {
     "name": "stderr",
     "output_type": "stream",
     "text": [
      "Epoch 4 / 10:  67%|██████▋   | 304/454 [00:10<00:05, 28.17it/s]"
     ]
    },
    {
     "name": "stdout",
     "output_type": "stream",
     "text": [
      "\u001B[32m2025-03-28 21:34:30.727\u001B[0m | \u001B[1mINFO    \u001B[0m | \u001B[36m__main__\u001B[0m:\u001B[36m<module>\u001B[0m:\u001B[36m30\u001B[0m - \u001B[1miters:  300, epoch:  4 | loss: 0.4725632\u001B[0m\n",
      "\u001B[32m2025-03-28 21:34:30.728\u001B[0m | \u001B[1mINFO    \u001B[0m | \u001B[36m__main__\u001B[0m:\u001B[36m<module>\u001B[0m:\u001B[36m33\u001B[0m - \u001B[1mspeed:     0.0350s/iter; left time: 100.7257  s\u001B[0m\n"
     ]
    },
    {
     "name": "stderr",
     "output_type": "stream",
     "text": [
      "Epoch 4 / 10:  89%|████████▉ | 404/454 [00:14<00:01, 28.85it/s]"
     ]
    },
    {
     "name": "stdout",
     "output_type": "stream",
     "text": [
      "\u001B[32m2025-03-28 21:34:34.241\u001B[0m | \u001B[1mINFO    \u001B[0m | \u001B[36m__main__\u001B[0m:\u001B[36m<module>\u001B[0m:\u001B[36m30\u001B[0m - \u001B[1miters:  400, epoch:  4 | loss: 0.4234439\u001B[0m\n",
      "\u001B[32m2025-03-28 21:34:34.241\u001B[0m | \u001B[1mINFO    \u001B[0m | \u001B[36m__main__\u001B[0m:\u001B[36m<module>\u001B[0m:\u001B[36m33\u001B[0m - \u001B[1mspeed:     0.0351s/iter; left time: 97.6262   s\u001B[0m\n"
     ]
    },
    {
     "name": "stderr",
     "output_type": "stream",
     "text": [
      "Epoch 4 / 10: 100%|██████████| 454/454 [00:16<00:00, 27.90it/s]\n"
     ]
    },
    {
     "name": "stdout",
     "output_type": "stream",
     "text": [
      "\u001B[32m2025-03-28 21:34:40.811\u001B[0m | \u001B[1mINFO    \u001B[0m | \u001B[36m__main__\u001B[0m:\u001B[36m<module>\u001B[0m:\u001B[36m52\u001B[0m - \u001B[1mEpoch:  4 cost time: 20.8348   s, train loss: 0.4167693, test loss: 1.2316423\u001B[0m\n",
      "\u001B[32m2025-03-28 21:34:40.813\u001B[0m | \u001B[1mINFO    \u001B[0m | \u001B[36mtsadlib.utils.traning_stoper\u001B[0m:\u001B[36msave_checkpoint\u001B[0m:\u001B[36m104\u001B[0m - \u001B[1mValidation loss decreased (0.468214 --> 0.416769).  Saving model ...\u001B[0m\n"
     ]
    },
    {
     "name": "stderr",
     "output_type": "stream",
     "text": [
      "Epoch 5 / 10:  23%|██▎       | 104/454 [00:03<00:12, 28.71it/s]"
     ]
    },
    {
     "name": "stdout",
     "output_type": "stream",
     "text": [
      "\u001B[32m2025-03-28 21:34:44.619\u001B[0m | \u001B[1mINFO    \u001B[0m | \u001B[36m__main__\u001B[0m:\u001B[36m<module>\u001B[0m:\u001B[36m30\u001B[0m - \u001B[1miters:  100, epoch:  5 | loss: 0.4267716\u001B[0m\n",
      "\u001B[32m2025-03-28 21:34:44.620\u001B[0m | \u001B[1mINFO    \u001B[0m | \u001B[36m__main__\u001B[0m:\u001B[36m<module>\u001B[0m:\u001B[36m33\u001B[0m - \u001B[1mspeed:     0.1038s/iter; left time: 272.4455  s\u001B[0m\n"
     ]
    },
    {
     "name": "stderr",
     "output_type": "stream",
     "text": [
      "Epoch 5 / 10:  45%|████▍     | 204/454 [00:07<00:08, 29.67it/s]"
     ]
    },
    {
     "name": "stdout",
     "output_type": "stream",
     "text": [
      "\u001B[32m2025-03-28 21:34:48.142\u001B[0m | \u001B[1mINFO    \u001B[0m | \u001B[36m__main__\u001B[0m:\u001B[36m<module>\u001B[0m:\u001B[36m30\u001B[0m - \u001B[1miters:  200, epoch:  5 | loss: 0.3096584\u001B[0m\n",
      "\u001B[32m2025-03-28 21:34:48.143\u001B[0m | \u001B[1mINFO    \u001B[0m | \u001B[36m__main__\u001B[0m:\u001B[36m<module>\u001B[0m:\u001B[36m33\u001B[0m - \u001B[1mspeed:     0.0352s/iter; left time: 88.9359   s\u001B[0m\n"
     ]
    },
    {
     "name": "stderr",
     "output_type": "stream",
     "text": [
      "Epoch 5 / 10:  67%|██████▋   | 303/454 [00:10<00:05, 28.25it/s]"
     ]
    },
    {
     "name": "stdout",
     "output_type": "stream",
     "text": [
      "\u001B[32m2025-03-28 21:34:51.696\u001B[0m | \u001B[1mINFO    \u001B[0m | \u001B[36m__main__\u001B[0m:\u001B[36m<module>\u001B[0m:\u001B[36m30\u001B[0m - \u001B[1miters:  300, epoch:  5 | loss: 0.3211359\u001B[0m\n",
      "\u001B[32m2025-03-28 21:34:51.697\u001B[0m | \u001B[1mINFO    \u001B[0m | \u001B[36m__main__\u001B[0m:\u001B[36m<module>\u001B[0m:\u001B[36m33\u001B[0m - \u001B[1mspeed:     0.0355s/iter; left time: 86.1724   s\u001B[0m\n"
     ]
    },
    {
     "name": "stderr",
     "output_type": "stream",
     "text": [
      "Epoch 5 / 10:  89%|████████▉ | 405/454 [00:14<00:01, 27.96it/s]"
     ]
    },
    {
     "name": "stdout",
     "output_type": "stream",
     "text": [
      "\u001B[32m2025-03-28 21:34:55.276\u001B[0m | \u001B[1mINFO    \u001B[0m | \u001B[36m__main__\u001B[0m:\u001B[36m<module>\u001B[0m:\u001B[36m30\u001B[0m - \u001B[1miters:  400, epoch:  5 | loss: 0.3070454\u001B[0m\n",
      "\u001B[32m2025-03-28 21:34:55.277\u001B[0m | \u001B[1mINFO    \u001B[0m | \u001B[36m__main__\u001B[0m:\u001B[36m<module>\u001B[0m:\u001B[36m33\u001B[0m - \u001B[1mspeed:     0.0358s/iter; left time: 83.2457   s\u001B[0m\n"
     ]
    },
    {
     "name": "stderr",
     "output_type": "stream",
     "text": [
      "Epoch 5 / 10: 100%|██████████| 454/454 [00:16<00:00, 27.60it/s]\n"
     ]
    },
    {
     "name": "stdout",
     "output_type": "stream",
     "text": [
      "\u001B[32m2025-03-28 21:35:01.062\u001B[0m | \u001B[1mINFO    \u001B[0m | \u001B[36m__main__\u001B[0m:\u001B[36m<module>\u001B[0m:\u001B[36m52\u001B[0m - \u001B[1mEpoch:  5 cost time: 20.2387   s, train loss: 0.3783222, test loss: 1.1662123\u001B[0m\n",
      "\u001B[32m2025-03-28 21:35:01.064\u001B[0m | \u001B[1mINFO    \u001B[0m | \u001B[36mtsadlib.utils.traning_stoper\u001B[0m:\u001B[36msave_checkpoint\u001B[0m:\u001B[36m104\u001B[0m - \u001B[1mValidation loss decreased (0.416769 --> 0.378322).  Saving model ...\u001B[0m\n"
     ]
    },
    {
     "name": "stderr",
     "output_type": "stream",
     "text": [
      "Epoch 6 / 10:  23%|██▎       | 103/454 [00:04<00:13, 26.88it/s]"
     ]
    },
    {
     "name": "stdout",
     "output_type": "stream",
     "text": [
      "\u001B[32m2025-03-28 21:35:05.076\u001B[0m | \u001B[1mINFO    \u001B[0m | \u001B[36m__main__\u001B[0m:\u001B[36m<module>\u001B[0m:\u001B[36m30\u001B[0m - \u001B[1miters:  100, epoch:  6 | loss: 0.3840322\u001B[0m\n",
      "\u001B[32m2025-03-28 21:35:05.077\u001B[0m | \u001B[1mINFO    \u001B[0m | \u001B[36m__main__\u001B[0m:\u001B[36m<module>\u001B[0m:\u001B[36m33\u001B[0m - \u001B[1mspeed:     0.0980s/iter; left time: 212.7550  s\u001B[0m\n"
     ]
    },
    {
     "name": "stderr",
     "output_type": "stream",
     "text": [
      "Epoch 6 / 10:  44%|████▍     | 202/454 [00:07<00:09, 26.99it/s]"
     ]
    },
    {
     "name": "stdout",
     "output_type": "stream",
     "text": [
      "\u001B[32m2025-03-28 21:35:08.787\u001B[0m | \u001B[1mINFO    \u001B[0m | \u001B[36m__main__\u001B[0m:\u001B[36m<module>\u001B[0m:\u001B[36m30\u001B[0m - \u001B[1miters:  200, epoch:  6 | loss: 0.3029005\u001B[0m\n",
      "\u001B[32m2025-03-28 21:35:08.787\u001B[0m | \u001B[1mINFO    \u001B[0m | \u001B[36m__main__\u001B[0m:\u001B[36m<module>\u001B[0m:\u001B[36m33\u001B[0m - \u001B[1mspeed:     0.0371s/iter; left time: 76.8352   s\u001B[0m\n"
     ]
    },
    {
     "name": "stderr",
     "output_type": "stream",
     "text": [
      "Epoch 6 / 10:  67%|██████▋   | 304/454 [00:11<00:05, 26.58it/s]"
     ]
    },
    {
     "name": "stdout",
     "output_type": "stream",
     "text": [
      "\u001B[32m2025-03-28 21:35:12.520\u001B[0m | \u001B[1mINFO    \u001B[0m | \u001B[36m__main__\u001B[0m:\u001B[36m<module>\u001B[0m:\u001B[36m30\u001B[0m - \u001B[1miters:  300, epoch:  6 | loss: 0.4077341\u001B[0m\n",
      "\u001B[32m2025-03-28 21:35:12.521\u001B[0m | \u001B[1mINFO    \u001B[0m | \u001B[36m__main__\u001B[0m:\u001B[36m<module>\u001B[0m:\u001B[36m33\u001B[0m - \u001B[1mspeed:     0.0373s/iter; left time: 73.5784   s\u001B[0m\n"
     ]
    },
    {
     "name": "stderr",
     "output_type": "stream",
     "text": [
      "Epoch 6 / 10:  89%|████████▉ | 403/454 [00:15<00:01, 27.05it/s]"
     ]
    },
    {
     "name": "stdout",
     "output_type": "stream",
     "text": [
      "\u001B[32m2025-03-28 21:35:16.212\u001B[0m | \u001B[1mINFO    \u001B[0m | \u001B[36m__main__\u001B[0m:\u001B[36m<module>\u001B[0m:\u001B[36m30\u001B[0m - \u001B[1miters:  400, epoch:  6 | loss: 0.4149563\u001B[0m\n",
      "\u001B[32m2025-03-28 21:35:16.213\u001B[0m | \u001B[1mINFO    \u001B[0m | \u001B[36m__main__\u001B[0m:\u001B[36m<module>\u001B[0m:\u001B[36m33\u001B[0m - \u001B[1mspeed:     0.0369s/iter; left time: 69.0683   s\u001B[0m\n"
     ]
    },
    {
     "name": "stderr",
     "output_type": "stream",
     "text": [
      "Epoch 6 / 10: 100%|██████████| 454/454 [00:17<00:00, 26.35it/s]\n"
     ]
    },
    {
     "name": "stdout",
     "output_type": "stream",
     "text": [
      "\u001B[32m2025-03-28 21:35:22.170\u001B[0m | \u001B[1mINFO    \u001B[0m | \u001B[36m__main__\u001B[0m:\u001B[36m<module>\u001B[0m:\u001B[36m52\u001B[0m - \u001B[1mEpoch:  6 cost time: 21.0964   s, train loss: 0.3463875, test loss: 1.1051927\u001B[0m\n",
      "\u001B[32m2025-03-28 21:35:22.172\u001B[0m | \u001B[1mINFO    \u001B[0m | \u001B[36mtsadlib.utils.traning_stoper\u001B[0m:\u001B[36msave_checkpoint\u001B[0m:\u001B[36m104\u001B[0m - \u001B[1mValidation loss decreased (0.378322 --> 0.346387).  Saving model ...\u001B[0m\n"
     ]
    },
    {
     "name": "stderr",
     "output_type": "stream",
     "text": [
      "Epoch 7 / 10:  23%|██▎       | 103/454 [00:03<00:12, 28.48it/s]"
     ]
    },
    {
     "name": "stdout",
     "output_type": "stream",
     "text": [
      "\u001B[32m2025-03-28 21:35:25.995\u001B[0m | \u001B[1mINFO    \u001B[0m | \u001B[36m__main__\u001B[0m:\u001B[36m<module>\u001B[0m:\u001B[36m30\u001B[0m - \u001B[1miters:  100, epoch:  7 | loss: 0.2451346\u001B[0m\n",
      "\u001B[32m2025-03-28 21:35:25.996\u001B[0m | \u001B[1mINFO    \u001B[0m | \u001B[36m__main__\u001B[0m:\u001B[36m<module>\u001B[0m:\u001B[36m33\u001B[0m - \u001B[1mspeed:     0.0978s/iter; left time: 167.9755  s\u001B[0m\n"
     ]
    },
    {
     "name": "stderr",
     "output_type": "stream",
     "text": [
      "Epoch 7 / 10:  45%|████▍     | 203/454 [00:07<00:08, 28.91it/s]"
     ]
    },
    {
     "name": "stdout",
     "output_type": "stream",
     "text": [
      "\u001B[32m2025-03-28 21:35:29.494\u001B[0m | \u001B[1mINFO    \u001B[0m | \u001B[36m__main__\u001B[0m:\u001B[36m<module>\u001B[0m:\u001B[36m30\u001B[0m - \u001B[1miters:  200, epoch:  7 | loss: 0.3539187\u001B[0m\n",
      "\u001B[32m2025-03-28 21:35:29.494\u001B[0m | \u001B[1mINFO    \u001B[0m | \u001B[36m__main__\u001B[0m:\u001B[36m<module>\u001B[0m:\u001B[36m33\u001B[0m - \u001B[1mspeed:     0.0350s/iter; left time: 56.5684   s\u001B[0m\n"
     ]
    },
    {
     "name": "stderr",
     "output_type": "stream",
     "text": [
      "Epoch 7 / 10:  67%|██████▋   | 305/454 [00:10<00:05, 28.68it/s]"
     ]
    },
    {
     "name": "stdout",
     "output_type": "stream",
     "text": [
      "\u001B[32m2025-03-28 21:35:32.975\u001B[0m | \u001B[1mINFO    \u001B[0m | \u001B[36m__main__\u001B[0m:\u001B[36m<module>\u001B[0m:\u001B[36m30\u001B[0m - \u001B[1miters:  300, epoch:  7 | loss: 0.3890111\u001B[0m\n",
      "\u001B[32m2025-03-28 21:35:32.976\u001B[0m | \u001B[1mINFO    \u001B[0m | \u001B[36m__main__\u001B[0m:\u001B[36m<module>\u001B[0m:\u001B[36m33\u001B[0m - \u001B[1mspeed:     0.0348s/iter; left time: 52.8093   s\u001B[0m\n"
     ]
    },
    {
     "name": "stderr",
     "output_type": "stream",
     "text": [
      "Epoch 7 / 10:  89%|████████▉ | 403/454 [00:14<00:01, 28.83it/s]"
     ]
    },
    {
     "name": "stdout",
     "output_type": "stream",
     "text": [
      "\u001B[32m2025-03-28 21:35:36.454\u001B[0m | \u001B[1mINFO    \u001B[0m | \u001B[36m__main__\u001B[0m:\u001B[36m<module>\u001B[0m:\u001B[36m30\u001B[0m - \u001B[1miters:  400, epoch:  7 | loss: 0.2055222\u001B[0m\n",
      "\u001B[32m2025-03-28 21:35:36.455\u001B[0m | \u001B[1mINFO    \u001B[0m | \u001B[36m__main__\u001B[0m:\u001B[36m<module>\u001B[0m:\u001B[36m33\u001B[0m - \u001B[1mspeed:     0.0348s/iter; left time: 49.2893   s\u001B[0m\n"
     ]
    },
    {
     "name": "stderr",
     "output_type": "stream",
     "text": [
      "Epoch 7 / 10: 100%|██████████| 454/454 [00:16<00:00, 28.01it/s]\n"
     ]
    },
    {
     "name": "stdout",
     "output_type": "stream",
     "text": [
      "\u001B[32m2025-03-28 21:35:42.181\u001B[0m | \u001B[1mINFO    \u001B[0m | \u001B[36m__main__\u001B[0m:\u001B[36m<module>\u001B[0m:\u001B[36m52\u001B[0m - \u001B[1mEpoch:  7 cost time: 19.9979   s, train loss: 0.3178679, test loss: 1.0555292\u001B[0m\n",
      "\u001B[32m2025-03-28 21:35:42.182\u001B[0m | \u001B[1mINFO    \u001B[0m | \u001B[36mtsadlib.utils.traning_stoper\u001B[0m:\u001B[36msave_checkpoint\u001B[0m:\u001B[36m104\u001B[0m - \u001B[1mValidation loss decreased (0.346387 --> 0.317868).  Saving model ...\u001B[0m\n"
     ]
    },
    {
     "name": "stderr",
     "output_type": "stream",
     "text": [
      "Epoch 8 / 10:  25%|██▌       | 114/454 [00:01<00:04, 75.79it/s]"
     ]
    },
    {
     "name": "stdout",
     "output_type": "stream",
     "text": [
      "\u001B[32m2025-03-28 21:35:43.817\u001B[0m | \u001B[1mINFO    \u001B[0m | \u001B[36m__main__\u001B[0m:\u001B[36m<module>\u001B[0m:\u001B[36m30\u001B[0m - \u001B[1miters:  100, epoch:  8 | loss: 0.2835076\u001B[0m\n",
      "\u001B[32m2025-03-28 21:35:43.818\u001B[0m | \u001B[1mINFO    \u001B[0m | \u001B[36m__main__\u001B[0m:\u001B[36m<module>\u001B[0m:\u001B[36m33\u001B[0m - \u001B[1mspeed:     0.0736s/iter; left time: 92.9981   s\u001B[0m\n"
     ]
    },
    {
     "name": "stderr",
     "output_type": "stream",
     "text": [
      "Epoch 8 / 10:  46%|████▋     | 210/454 [00:03<00:03, 76.96it/s]"
     ]
    },
    {
     "name": "stdout",
     "output_type": "stream",
     "text": [
      "\u001B[32m2025-03-28 21:35:45.118\u001B[0m | \u001B[1mINFO    \u001B[0m | \u001B[36m__main__\u001B[0m:\u001B[36m<module>\u001B[0m:\u001B[36m30\u001B[0m - \u001B[1miters:  200, epoch:  8 | loss: 0.3993177\u001B[0m\n",
      "\u001B[32m2025-03-28 21:35:45.118\u001B[0m | \u001B[1mINFO    \u001B[0m | \u001B[36m__main__\u001B[0m:\u001B[36m<module>\u001B[0m:\u001B[36m33\u001B[0m - \u001B[1mspeed:     0.0130s/iter; left time: 15.1163   s\u001B[0m\n"
     ]
    },
    {
     "name": "stderr",
     "output_type": "stream",
     "text": [
      "Epoch 8 / 10:  69%|██████▉   | 314/454 [00:04<00:01, 76.57it/s]"
     ]
    },
    {
     "name": "stdout",
     "output_type": "stream",
     "text": [
      "\u001B[32m2025-03-28 21:35:46.404\u001B[0m | \u001B[1mINFO    \u001B[0m | \u001B[36m__main__\u001B[0m:\u001B[36m<module>\u001B[0m:\u001B[36m30\u001B[0m - \u001B[1miters:  300, epoch:  8 | loss: 0.2449370\u001B[0m\n",
      "\u001B[32m2025-03-28 21:35:46.404\u001B[0m | \u001B[1mINFO    \u001B[0m | \u001B[36m__main__\u001B[0m:\u001B[36m<module>\u001B[0m:\u001B[36m33\u001B[0m - \u001B[1mspeed:     0.0129s/iter; left time: 13.6737   s\u001B[0m\n"
     ]
    },
    {
     "name": "stderr",
     "output_type": "stream",
     "text": [
      "Epoch 8 / 10:  90%|█████████ | 410/454 [00:05<00:00, 76.96it/s]"
     ]
    },
    {
     "name": "stdout",
     "output_type": "stream",
     "text": [
      "\u001B[32m2025-03-28 21:35:47.707\u001B[0m | \u001B[1mINFO    \u001B[0m | \u001B[36m__main__\u001B[0m:\u001B[36m<module>\u001B[0m:\u001B[36m30\u001B[0m - \u001B[1miters:  400, epoch:  8 | loss: 0.2552970\u001B[0m\n",
      "\u001B[32m2025-03-28 21:35:47.707\u001B[0m | \u001B[1mINFO    \u001B[0m | \u001B[36m__main__\u001B[0m:\u001B[36m<module>\u001B[0m:\u001B[36m33\u001B[0m - \u001B[1mspeed:     0.0130s/iter; left time: 12.5456   s\u001B[0m\n"
     ]
    },
    {
     "name": "stderr",
     "output_type": "stream",
     "text": [
      "Epoch 8 / 10: 100%|██████████| 454/454 [00:06<00:00, 72.46it/s]\n"
     ]
    },
    {
     "name": "stdout",
     "output_type": "stream",
     "text": [
      "\u001B[32m2025-03-28 21:35:52.257\u001B[0m | \u001B[1mINFO    \u001B[0m | \u001B[36m__main__\u001B[0m:\u001B[36m<module>\u001B[0m:\u001B[36m52\u001B[0m - \u001B[1mEpoch:  8 cost time: 10.0647   s, train loss: 0.2926072, test loss: 1.0062247\u001B[0m\n",
      "\u001B[32m2025-03-28 21:35:52.259\u001B[0m | \u001B[1mINFO    \u001B[0m | \u001B[36mtsadlib.utils.traning_stoper\u001B[0m:\u001B[36msave_checkpoint\u001B[0m:\u001B[36m104\u001B[0m - \u001B[1mValidation loss decreased (0.317868 --> 0.292607).  Saving model ...\u001B[0m\n"
     ]
    },
    {
     "name": "stderr",
     "output_type": "stream",
     "text": [
      "Epoch 9 / 10:  23%|██▎       | 103/454 [00:03<00:12, 28.24it/s]"
     ]
    },
    {
     "name": "stdout",
     "output_type": "stream",
     "text": [
      "\u001B[32m2025-03-28 21:35:56.133\u001B[0m | \u001B[1mINFO    \u001B[0m | \u001B[36m__main__\u001B[0m:\u001B[36m<module>\u001B[0m:\u001B[36m30\u001B[0m - \u001B[1miters:  100, epoch:  9 | loss: 0.2602915\u001B[0m\n",
      "\u001B[32m2025-03-28 21:35:56.134\u001B[0m | \u001B[1mINFO    \u001B[0m | \u001B[36m__main__\u001B[0m:\u001B[36m<module>\u001B[0m:\u001B[36m33\u001B[0m - \u001B[1mspeed:     0.0843s/iter; left time: 68.1707   s\u001B[0m\n"
     ]
    },
    {
     "name": "stderr",
     "output_type": "stream",
     "text": [
      "Epoch 9 / 10:  45%|████▌     | 205/454 [00:07<00:08, 28.31it/s]"
     ]
    },
    {
     "name": "stdout",
     "output_type": "stream",
     "text": [
      "\u001B[32m2025-03-28 21:35:59.677\u001B[0m | \u001B[1mINFO    \u001B[0m | \u001B[36m__main__\u001B[0m:\u001B[36m<module>\u001B[0m:\u001B[36m30\u001B[0m - \u001B[1miters:  200, epoch:  9 | loss: 0.2804871\u001B[0m\n",
      "\u001B[32m2025-03-28 21:35:59.678\u001B[0m | \u001B[1mINFO    \u001B[0m | \u001B[36m__main__\u001B[0m:\u001B[36m<module>\u001B[0m:\u001B[36m33\u001B[0m - \u001B[1mspeed:     0.0354s/iter; left time: 25.1262   s\u001B[0m\n"
     ]
    },
    {
     "name": "stderr",
     "output_type": "stream",
     "text": [
      "Epoch 9 / 10:  67%|██████▋   | 304/454 [00:11<00:05, 27.78it/s]"
     ]
    },
    {
     "name": "stdout",
     "output_type": "stream",
     "text": [
      "\u001B[32m2025-03-28 21:36:03.174\u001B[0m | \u001B[1mINFO    \u001B[0m | \u001B[36m__main__\u001B[0m:\u001B[36m<module>\u001B[0m:\u001B[36m30\u001B[0m - \u001B[1miters:  300, epoch:  9 | loss: 0.3696984\u001B[0m\n",
      "\u001B[32m2025-03-28 21:36:03.175\u001B[0m | \u001B[1mINFO    \u001B[0m | \u001B[36m__main__\u001B[0m:\u001B[36m<module>\u001B[0m:\u001B[36m33\u001B[0m - \u001B[1mspeed:     0.0350s/iter; left time: 21.2952   s\u001B[0m\n"
     ]
    },
    {
     "name": "stderr",
     "output_type": "stream",
     "text": [
      "Epoch 9 / 10:  89%|████████▉ | 403/454 [00:14<00:01, 27.51it/s]"
     ]
    },
    {
     "name": "stdout",
     "output_type": "stream",
     "text": [
      "\u001B[32m2025-03-28 21:36:06.752\u001B[0m | \u001B[1mINFO    \u001B[0m | \u001B[36m__main__\u001B[0m:\u001B[36m<module>\u001B[0m:\u001B[36m30\u001B[0m - \u001B[1miters:  400, epoch:  9 | loss: 0.2783394\u001B[0m\n",
      "\u001B[32m2025-03-28 21:36:06.753\u001B[0m | \u001B[1mINFO    \u001B[0m | \u001B[36m__main__\u001B[0m:\u001B[36m<module>\u001B[0m:\u001B[36m33\u001B[0m - \u001B[1mspeed:     0.0358s/iter; left time: 18.2118   s\u001B[0m\n"
     ]
    },
    {
     "name": "stderr",
     "output_type": "stream",
     "text": [
      "Epoch 9 / 10: 100%|██████████| 454/454 [00:16<00:00, 27.55it/s]\n"
     ]
    },
    {
     "name": "stdout",
     "output_type": "stream",
     "text": [
      "\u001B[32m2025-03-28 21:36:12.620\u001B[0m | \u001B[1mINFO    \u001B[0m | \u001B[36m__main__\u001B[0m:\u001B[36m<module>\u001B[0m:\u001B[36m52\u001B[0m - \u001B[1mEpoch:  9 cost time: 20.3502   s, train loss: 0.2708244, test loss: 0.9721331\u001B[0m\n",
      "\u001B[32m2025-03-28 21:36:12.621\u001B[0m | \u001B[1mINFO    \u001B[0m | \u001B[36mtsadlib.utils.traning_stoper\u001B[0m:\u001B[36msave_checkpoint\u001B[0m:\u001B[36m104\u001B[0m - \u001B[1mValidation loss decreased (0.292607 --> 0.270824).  Saving model ...\u001B[0m\n"
     ]
    },
    {
     "name": "stderr",
     "output_type": "stream",
     "text": [
      "Epoch 10 / 10:  23%|██▎       | 104/454 [00:04<00:12, 27.70it/s]"
     ]
    },
    {
     "name": "stdout",
     "output_type": "stream",
     "text": [
      "\u001B[32m2025-03-28 21:36:16.544\u001B[0m | \u001B[1mINFO    \u001B[0m | \u001B[36m__main__\u001B[0m:\u001B[36m<module>\u001B[0m:\u001B[36m30\u001B[0m - \u001B[1miters:  100, epoch: 10 | loss: 0.3519644\u001B[0m\n",
      "\u001B[32m2025-03-28 21:36:16.545\u001B[0m | \u001B[1mINFO    \u001B[0m | \u001B[36m__main__\u001B[0m:\u001B[36m<module>\u001B[0m:\u001B[36m33\u001B[0m - \u001B[1mspeed:     0.0979s/iter; left time: 34.7617   s\u001B[0m\n"
     ]
    },
    {
     "name": "stderr",
     "output_type": "stream",
     "text": [
      "Epoch 10 / 10:  45%|████▍     | 203/454 [00:07<00:08, 28.53it/s]"
     ]
    },
    {
     "name": "stdout",
     "output_type": "stream",
     "text": [
      "\u001B[32m2025-03-28 21:36:20.031\u001B[0m | \u001B[1mINFO    \u001B[0m | \u001B[36m__main__\u001B[0m:\u001B[36m<module>\u001B[0m:\u001B[36m30\u001B[0m - \u001B[1miters:  200, epoch: 10 | loss: 0.1970431\u001B[0m\n",
      "\u001B[32m2025-03-28 21:36:20.032\u001B[0m | \u001B[1mINFO    \u001B[0m | \u001B[36m__main__\u001B[0m:\u001B[36m<module>\u001B[0m:\u001B[36m33\u001B[0m - \u001B[1mspeed:     0.0349s/iter; left time: 8.8909    s\u001B[0m\n"
     ]
    },
    {
     "name": "stderr",
     "output_type": "stream",
     "text": [
      "Epoch 10 / 10:  67%|██████▋   | 305/454 [00:11<00:05, 28.58it/s]"
     ]
    },
    {
     "name": "stdout",
     "output_type": "stream",
     "text": [
      "\u001B[32m2025-03-28 21:36:23.581\u001B[0m | \u001B[1mINFO    \u001B[0m | \u001B[36m__main__\u001B[0m:\u001B[36m<module>\u001B[0m:\u001B[36m30\u001B[0m - \u001B[1miters:  300, epoch: 10 | loss: 0.2272319\u001B[0m\n",
      "\u001B[32m2025-03-28 21:36:23.582\u001B[0m | \u001B[1mINFO    \u001B[0m | \u001B[36m__main__\u001B[0m:\u001B[36m<module>\u001B[0m:\u001B[36m33\u001B[0m - \u001B[1mspeed:     0.0355s/iter; left time: 5.5025    s\u001B[0m\n"
     ]
    },
    {
     "name": "stderr",
     "output_type": "stream",
     "text": [
      "Epoch 10 / 10:  89%|████████▉ | 404/454 [00:14<00:01, 28.03it/s]"
     ]
    },
    {
     "name": "stdout",
     "output_type": "stream",
     "text": [
      "\u001B[32m2025-03-28 21:36:27.102\u001B[0m | \u001B[1mINFO    \u001B[0m | \u001B[36m__main__\u001B[0m:\u001B[36m<module>\u001B[0m:\u001B[36m30\u001B[0m - \u001B[1miters:  400, epoch: 10 | loss: 0.2740971\u001B[0m\n",
      "\u001B[32m2025-03-28 21:36:27.102\u001B[0m | \u001B[1mINFO    \u001B[0m | \u001B[36m__main__\u001B[0m:\u001B[36m<module>\u001B[0m:\u001B[36m33\u001B[0m - \u001B[1mspeed:     0.0352s/iter; left time: 1.9360    s\u001B[0m\n"
     ]
    },
    {
     "name": "stderr",
     "output_type": "stream",
     "text": [
      "Epoch 10 / 10: 100%|██████████| 454/454 [00:16<00:00, 27.59it/s]\n"
     ]
    },
    {
     "name": "stdout",
     "output_type": "stream",
     "text": [
      "\u001B[32m2025-03-28 21:36:32.963\u001B[0m | \u001B[1mINFO    \u001B[0m | \u001B[36m__main__\u001B[0m:\u001B[36m<module>\u001B[0m:\u001B[36m52\u001B[0m - \u001B[1mEpoch: 10 cost time: 20.3311   s, train loss: 0.2508983, test loss: 0.9405819\u001B[0m\n",
      "\u001B[32m2025-03-28 21:36:32.964\u001B[0m | \u001B[1mINFO    \u001B[0m | \u001B[36mtsadlib.utils.traning_stoper\u001B[0m:\u001B[36msave_checkpoint\u001B[0m:\u001B[36m104\u001B[0m - \u001B[1mValidation loss decreased (0.270824 --> 0.250898).  Saving model ...\u001B[0m\n"
     ]
    }
   ],
   "source": [
    "# Initialize model and training components\n",
    "model = TimesNet(args).to(device)\n",
    "optimizer = torch.optim.Adam(model.parameters(), lr=args.learning_rate)\n",
    "criterion = torch.nn.MSELoss()\n",
    "early_stopping = OneEarlyStopping(args.patience, CHECKPOINTS, DATASET_TYPE)\n",
    "train_steps = len(train_loader)\n",
    "# time_now = time.time()\n",
    "\n",
    "# Training loop\n",
    "for epoch in range(args.num_epochs):\n",
    "    model.train()\n",
    "    train_loss = []\n",
    "    test_loss = []\n",
    "    # iter_count = 0\n",
    "    epoch_time = time.time()\n",
    "\n",
    "    model.train()\n",
    "    for i, (batch_x, _) in enumerate(tqdm(train_loader, desc=f'Epoch {epoch + 1} / {args.num_epochs}')):\n",
    "        # iter_count += 1\n",
    "        optimizer.zero_grad()\n",
    "        batch_x = batch_x.float().to(device)\n",
    "\n",
    "        # Forward pass\n",
    "        outputs = model(batch_x)\n",
    "        loss = criterion(outputs, batch_x)\n",
    "\n",
    "        if (i + 1) % 100 == 0:\n",
    "            writer.add_scalar('Loss/Train', loss.item(), epoch * train_steps + i)\n",
    "            # log.info(\"iters: {:>4}, epoch: {:>2} | loss: {:<.7f}\", i + 1, epoch + 1, loss.item())\n",
    "            # speed = (time.time() - time_now) / iter_count\n",
    "            # left_time = speed * ((args.num_epochs - epoch) * train_steps - i)\n",
    "            # log.info('speed: {:>10.4f}s/iter; left time: {:<10.4f}s'.format(speed, left_time))\n",
    "            # iter_count = 0\n",
    "            # time_now = time.time()\n",
    "\n",
    "        # Backward pass\n",
    "        loss.backward()\n",
    "        optimizer.step()\n",
    "        train_loss.append(loss.item())\n",
    "\n",
    "    model.eval()\n",
    "    with torch.no_grad():\n",
    "        for i, (batch_x, _) in enumerate(test_loader):\n",
    "            batch_x = batch_x.float().to(device)\n",
    "            outputs = model(batch_x)\n",
    "            loss = criterion(outputs, batch_x)\n",
    "            test_loss.append(loss.item())\n",
    "\n",
    "    train_avg_loss = np.average(train_loss)\n",
    "    test_avg_loss = np.average(test_loss)\n",
    "    log.info(\"Epoch: {:>2} cost time: {:<10.4f}s, train loss: {:<.7f}, test loss: {:<.7f}\", epoch + 1,\n",
    "             time.time() - epoch_time, train_avg_loss, test_avg_loss)\n",
    "\n",
    "    writer.add_scalars(\"Loss\", {\"Train\": train_avg_loss, \"Validation\": test_avg_loss}, epoch)\n",
    "\n",
    "    # Early stopping check\n",
    "    early_stopping(validate_avg_loss, model)\n",
    "    if early_stopping.early_stop:\n",
    "        log.warning(\"Early stopping triggered\")\n",
    "        break\n"
   ]
  },
  {
   "cell_type": "markdown",
   "id": "5a8d35536a199bd2",
   "metadata": {},
   "source": [
    "## 3. Model Evaluation"
   ]
  },
  {
   "cell_type": "code",
   "execution_count": null,
   "id": "f935c6c468c6dd8a",
   "metadata": {
    "ExecuteTime": {
     "end_time": "2025-03-28T13:36:44.294629Z",
     "start_time": "2025-03-28T13:36:33.141575Z"
    }
   },
   "outputs": [
    {
     "name": "stdout",
     "output_type": "stream",
     "text": [
      "\u001B[32m2025-03-28 21:36:41.336\u001B[0m | \u001B[32m\u001B[1mSUCCESS \u001B[0m | \u001B[36m__main__\u001B[0m:\u001B[36m<module>\u001B[0m:\u001B[36m48\u001B[0m - \u001B[32m\u001B[1mBefore point-adjustment:\n",
      "Precision: 0.25\n",
      "Recall: 0.0344\n",
      "F1-score: 0.06\u001B[0m\n",
      "\u001B[32m2025-03-28 21:36:44.290\u001B[0m | \u001B[32m\u001B[1mSUCCESS \u001B[0m | \u001B[36m__main__\u001B[0m:\u001B[36m<module>\u001B[0m:\u001B[36m55\u001B[0m - \u001B[32m\u001B[1mAfter point-adjustment:\n",
      "Precision: 0.88\n",
      "Recall: 0.7337\n",
      "F1-score: 0.80\u001B[0m\n"
     ]
    }
   ],
   "source": [
    "from torch import nn\n",
    "\n",
    "# Set model to evaluation mode and initialize score containers\n",
    "model.eval()\n",
    "train_scores = []\n",
    "test_scores = []\n",
    "test_labels = []\n",
    "anomaly_criterion = nn.MSELoss(reduction='none')\n",
    "\n",
    "# Calculate reconstruction scores for training data\n",
    "with torch.no_grad():\n",
    "    for i, (batch_x, batch_y) in enumerate(train_loader):\n",
    "        batch_x = batch_x.float().to(device)\n",
    "        # reconstruction\n",
    "        outputs = model(batch_x)\n",
    "        # criterion\n",
    "        score = torch.mean(anomaly_criterion(batch_x, outputs), dim=-1)\n",
    "        score = score.detach().cpu().numpy()\n",
    "        train_scores.append(score)\n",
    "\n",
    "train_scores = np.concatenate(train_scores, axis=0).reshape(-1)\n",
    "\n",
    "# Calculate reconstruction scores for test data\n",
    "for batch_x, batch_y in test_loader:\n",
    "    batch_x = batch_x.float().to(device)\n",
    "    outputs = model(batch_x)\n",
    "\n",
    "    # Calculate reconstruction error as anomaly score\n",
    "    score = torch.mean(anomaly_criterion(outputs, batch_x), dim=-1)\n",
    "    test_scores.append(score.detach().cpu().numpy())\n",
    "    test_labels.append(batch_y)\n",
    "\n",
    "# Combine scores and labels from all batches\n",
    "test_scores = np.concatenate(test_scores, axis=0).reshape(-1)  # [total_samples, window_size]\n",
    "test_labels = np.concatenate(test_labels, axis=0).reshape(-1)  # [total_samples, window_size]\n",
    "\n",
    "# Calculate threshold using combined scores from both training and test sets\n",
    "combined_scores = np.concatenate([train_scores, test_scores], axis=0)\n",
    "from tsadlib import threshold\n",
    "\n",
    "final_threshold = threshold.percentile_threshold(combined_scores, 99)\n",
    "\n",
    "# Generate predictions based on threshold\n",
    "pred_labels = (test_scores > final_threshold).astype(int)\n",
    "\n",
    "# Calculate evaluation metrics\n",
    "precision, recall, f1, _ = precision_recall_fscore_support(test_labels, pred_labels, average='binary')\n",
    "log.success('Before point-adjustment:\\nPrecision: {:.2f}\\nRecall: {:.4f}\\nF1-score: {:.2f}', precision, recall, f1)\n",
    "\n",
    "# Apply point-adjustment strategy\n",
    "gt, pred = poinjustment(test_labels, pred_labels)\n",
    "\n",
    "# Calculate evaluation metrics\n",
    "precision, recall, f1, _ = precision_recall_fscore_support(gt, pred, average='binary')\n",
    "log.success('After point-adjustment:\\nPrecision: {:.2f}\\nRecall: {:.4f}\\nF1-score: {:.2f}', precision, recall, f1)"
   ]
  },
  {
   "cell_type": "markdown",
   "id": "a62e75269ca96801",
   "metadata": {},
   "source": [
    "## 4. Results Visualization"
   ]
  },
  {
   "cell_type": "code",
   "execution_count": 4,
   "id": "de62bb4f4abdad78",
   "metadata": {
    "ExecuteTime": {
     "end_time": "2025-03-28T13:36:48.584948Z",
     "start_time": "2025-03-28T13:36:44.316084Z"
    }
   },
   "outputs": [
    {
     "data": {
      "text/plain": [
       "<matplotlib.legend.Legend at 0x75e509810830>"
      ]
     },
     "execution_count": 4,
     "metadata": {},
     "output_type": "execute_result"
    },
    {
     "data": {
      "image/png": "[encoded data removed]",
      "text/plain": [
       "<Figure size 1500x500 with 1 Axes>"
      ]
     },
     "metadata": {},
     "output_type": "display_data"
    }
   ],
   "source": [
    "import matplotlib.pyplot as plt\n",
    "\n",
    "plt.figure(figsize=(15, 5))\n",
    "plt.plot(test_scores)\n",
    "plt.axhline(y=final_threshold, color='r', linestyle='--', label='threshold')\n",
    "plt.title('TimesNet Model Evaluation')\n",
    "plt.xlabel('TimeStamp')\n",
    "plt.ylabel('Anomaly Scores')\n",
    "plt.legend()"
   ]
  }
 ],
 "metadata": {
  "kernelspec": {
   "display_name": "Python 3 (ipykernel)",
   "language": "python",
   "name": "python3"
  },
  "language_info": {
   "codemirror_mode": {
    "name": "ipython",
    "version": 3
   },
   "file_extension": ".py",
   "mimetype": "text/x-python",
   "name": "python",
   "nbconvert_exporter": "python",
   "pygments_lexer": "ipython3",
   "version": "3.12.5"
  }
 },
 "nbformat": 4,
 "nbformat_minor": 5
}
